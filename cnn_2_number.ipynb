{
  "nbformat": 4,
  "nbformat_minor": 0,
  "metadata": {
    "colab": {
      "name": "cnn_2_number.ipynb",
      "provenance": [],
      "collapsed_sections": [],
      "authorship_tag": "ABX9TyM5trvaMPH/4wWgh6UR/jGM",
      "include_colab_link": true
    },
    "kernelspec": {
      "name": "python3",
      "display_name": "Python 3"
    }
  },
  "cells": [
    {
      "cell_type": "markdown",
      "metadata": {
        "id": "view-in-github",
        "colab_type": "text"
      },
      "source": [
        "<a href=\"https://colab.research.google.com/github/sogangori/choongang20/blob/master/cnn_2_number.ipynb\" target=\"_parent\"><img src=\"https://colab.research.google.com/assets/colab-badge.svg\" alt=\"Open In Colab\"/></a>"
      ]
    },
    {
      "cell_type": "markdown",
      "metadata": {
        "id": "GwB_XHDH1_Gw",
        "colab_type": "text"
      },
      "source": [
        "2 자리수 숫자 CNN 분류기 "
      ]
    },
    {
      "cell_type": "code",
      "metadata": {
        "id": "ClP9Ucwu2BPH",
        "colab_type": "code",
        "colab": {}
      },
      "source": [
        "%tensorflow_version 2.x\n",
        "import tensorflow as tf\n",
        "from tensorflow import keras\n",
        "import numpy as np\n",
        "import matplotlib.pyplot as plt\n",
        "from sklearn.datasets import load_digits"
      ],
      "execution_count": 0,
      "outputs": []
    },
    {
      "cell_type": "code",
      "metadata": {
        "id": "W5nLNSOT2Iol",
        "colab_type": "code",
        "colab": {
          "base_uri": "https://localhost:8080/",
          "height": 35
        },
        "outputId": "ad46f91a-cb01-4928-cba8-1f9e27484e54"
      },
      "source": [
        "x, y = load_digits(return_X_y=True)\n",
        "x.shape, y.shape, set(y)"
      ],
      "execution_count": 5,
      "outputs": [
        {
          "output_type": "execute_result",
          "data": {
            "text/plain": [
              "((1797, 64), (1797,), {0, 1, 2, 3, 4, 5, 6, 7, 8, 9})"
            ]
          },
          "metadata": {
            "tags": []
          },
          "execution_count": 5
        }
      ]
    },
    {
      "cell_type": "markdown",
      "metadata": {
        "id": "_8u_yK6Y4WKp",
        "colab_type": "text"
      },
      "source": [
        "공유 : http://bitly.kr/1CC8BWNm"
      ]
    },
    {
      "cell_type": "code",
      "metadata": {
        "id": "VxtHgRVw3VQK",
        "colab_type": "code",
        "colab": {}
      },
      "source": [
        " xx0 = np.concatenate((x[0].reshape((8,8)), x[1].reshape((8,8))), axis=1)#축1 방향으로 붙이기\n",
        " xx1 = np.concatenate((x[2].reshape((8,8)), x[3].reshape((8,8))), axis=1)\n",
        " yy0 = y[:2]\n",
        " yy1 = y[2:4]\n",
        " #plt.title(str(yy0))\n",
        " #plt.imshow(xx0)"
      ],
      "execution_count": 0,
      "outputs": []
    },
    {
      "cell_type": "code",
      "metadata": {
        "id": "wxSRZ3X34ctw",
        "colab_type": "code",
        "colab": {
          "base_uri": "https://localhost:8080/",
          "height": 35
        },
        "outputId": "10f7f247-9208-4d9a-f151-d1f5b914370f"
      },
      "source": [
        "x_train = np.stack((xx0, xx1), 0)\n",
        "y_train = np.stack((yy0, yy1), 0)\n",
        "x_train.shape, y_train.shape"
      ],
      "execution_count": 16,
      "outputs": [
        {
          "output_type": "execute_result",
          "data": {
            "text/plain": [
              "((2, 8, 16), (2, 2))"
            ]
          },
          "metadata": {
            "tags": []
          },
          "execution_count": 16
        }
      ]
    },
    {
      "cell_type": "code",
      "metadata": {
        "id": "qUKdrSy746j6",
        "colab_type": "code",
        "colab": {}
      },
      "source": [
        "class MyModel(keras.Model): # github.com/sogangori/choongang20/keras_cnn_expert.ipynb \n",
        "  def __init__(self):\n",
        "    super(MyModel, self).__init__()\n",
        "    self.opt = tf.optimizers.SGD(learning_rate=0.01)#Stochatic Gradient Descent 확률적 경사 하강\n",
        "    self.conv0 = keras.layers.Conv2D(16, [3,3], padding='same', activation=keras.activations.relu)\n",
        "    self.conv1 = keras.layers.Conv2D(32, [3,3], padding='same', activation=keras.activations.relu)\n",
        "    self.pool0 = keras.layers.MaxPool2D([2,2], padding='same')\n",
        "    self.pool1 = keras.layers.MaxPool2D([2,2], padding='same')\n",
        "    self.flatten = keras.layers.Flatten()\n",
        "    self.dense = keras.layers.Dense(units=10 * 2)\n",
        "  \n",
        "  def call(self, x):\n",
        "    #x (1797, 64)\n",
        "    x_4d = tf.reshape(x, [-1,8,8*2,1]) \n",
        "    x_4d = tf.cast(x_4d, tf.float32)\n",
        "    net = self.conv0(x_4d)\n",
        "    net = self.pool0(net)\n",
        "    net = self.conv1(net)\n",
        "    net = self.pool1(net)\n",
        "    net = self.flatten(net)    \n",
        "    h = self.dense(net)\n",
        "    h = tf.reshape(h, [-1, 2, 10]) # 2:두자리수, 10:10개의 클래스 \n",
        "    h = tf.nn.softmax(h, axis=2)\n",
        "    return h\n",
        "\n",
        "  def get_loss(self, y, h):\n",
        "    #학습할때 nan이 발생하는 경우 값을 clip(자르다) (최소값, 최대값) \n",
        "    h = tf.clip_by_value(h, 1e-8, 1 - 1e-8) # h 가 0이나 1이 되지 않도록 하는 안전장치 \n",
        "    cross_entropy = - (y * tf.math.log(h) + (1 - y) * tf.math.log(1 - h)) \n",
        "    loss = tf.reduce_mean(cross_entropy)\n",
        "    return loss\n",
        "\n",
        "  def get_accuracy(self, y, h):    \n",
        "    predict = tf.argmax(h, -1)\n",
        "    self.acc = tf.reduce_mean(tf.cast(tf.equal(y, predict), tf.float32)) # True > 1, False > 0 로 cast\n",
        "\n",
        "  def fit(self, x, y, epoch=1):\n",
        "    # x : (m, 8, 16), y: (m, 2)    \n",
        "    y_hot = tf.one_hot(y, depth=10, axis=-1)#(m, 2, 10)  \n",
        "    for i in range(epoch):\n",
        "      with tf.GradientTape() as tape: #경사 기록 장치\n",
        "        h = self.call(x)\n",
        "        loss = self.get_loss(y_hot, h)        \n",
        "      grads = tape.gradient(loss, self.trainable_variables) #경사 계산\n",
        "      self.opt.apply_gradients(zip(grads, self.trainable_variables)) # 가중치에서 경사를 빼기\n",
        "      self.get_accuracy(y, h)\n",
        "      if i%10==0:\n",
        "        print('%d/%d loss:%.3f acc:%.3f'%(i, epoch, loss, self.acc))\n",
        "model = MyModel()"
      ],
      "execution_count": 0,
      "outputs": []
    },
    {
      "cell_type": "code",
      "metadata": {
        "id": "hExFpO6F2hmG",
        "colab_type": "code",
        "colab": {
          "base_uri": "https://localhost:8080/",
          "height": 198
        },
        "outputId": "a1d0f2b4-f48f-4a6c-e906-ad9b8b9e6fdd"
      },
      "source": [
        "model.fit(x_train, y_train, epoch=100)"
      ],
      "execution_count": 21,
      "outputs": [
        {
          "output_type": "stream",
          "text": [
            "0/100 loss:0.175 acc:0.750\n",
            "10/100 loss:0.051 acc:1.000\n",
            "20/100 loss:0.026 acc:1.000\n",
            "30/100 loss:0.018 acc:1.000\n",
            "40/100 loss:0.013 acc:1.000\n",
            "50/100 loss:0.011 acc:1.000\n",
            "60/100 loss:0.009 acc:1.000\n",
            "70/100 loss:0.008 acc:1.000\n",
            "80/100 loss:0.007 acc:1.000\n",
            "90/100 loss:0.006 acc:1.000\n"
          ],
          "name": "stdout"
        }
      ]
    },
    {
      "cell_type": "code",
      "metadata": {
        "id": "koMv5xbb22Or",
        "colab_type": "code",
        "colab": {}
      },
      "source": [
        ""
      ],
      "execution_count": 0,
      "outputs": []
    }
  ]
}