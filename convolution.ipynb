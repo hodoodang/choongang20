{
  "nbformat": 4,
  "nbformat_minor": 0,
  "metadata": {
    "colab": {
      "name": "convolution.ipynb",
      "provenance": [],
      "collapsed_sections": [],
      "authorship_tag": "ABX9TyNqVfljC3KTQ+z0MQTGwfls",
      "include_colab_link": true
    },
    "kernelspec": {
      "name": "python3",
      "display_name": "Python 3"
    }
  },
  "cells": [
    {
      "cell_type": "markdown",
      "metadata": {
        "id": "view-in-github",
        "colab_type": "text"
      },
      "source": [
        "<a href=\"https://colab.research.google.com/github/sogangori/choongang20/blob/master/convolution.ipynb\" target=\"_parent\"><img src=\"https://colab.research.google.com/assets/colab-badge.svg\" alt=\"Open In Colab\"/></a>"
      ]
    },
    {
      "cell_type": "code",
      "metadata": {
        "id": "5dWV04vIp9TV",
        "colab_type": "code",
        "colab": {}
      },
      "source": [
        ""
      ],
      "execution_count": 0,
      "outputs": []
    },
    {
      "cell_type": "markdown",
      "metadata": {
        "id": "kIEAAIxkp_iE",
        "colab_type": "text"
      },
      "source": [
        "convolution 컨볼루션 "
      ]
    },
    {
      "cell_type": "code",
      "metadata": {
        "id": "iPexBkrBqB8t",
        "colab_type": "code",
        "colab": {}
      },
      "source": [
        "import numpy as np\n",
        "import matplotlib.pyplot as plt\n",
        "import tensorflow as tf\n",
        "from tensorflow import keras"
      ],
      "execution_count": 0,
      "outputs": []
    },
    {
      "cell_type": "code",
      "metadata": {
        "id": "QWlZ2mjX44sG",
        "colab_type": "code",
        "colab": {}
      },
      "source": [
        "#tensorflow 이미지 format(m,h,w,c), 필터 format(h,w,c,m), 조건: c 가 같아야 한다\n",
        "input = np.array([1,2,3,4,5,6]).reshape((1,2,3,1)).astype(np.float32)\n",
        "filter = np.array([1,2,3,4]).reshape((2,2,1,1)).astype(np.float32)\n",
        "out = tf.nn.conv2d(input, filter, padding='VALID')"
      ],
      "execution_count": 0,
      "outputs": []
    },
    {
      "cell_type": "code",
      "metadata": {
        "id": "OqC-t_gP6K3s",
        "colab_type": "code",
        "colab": {
          "base_uri": "https://localhost:8080/",
          "height": 53
        },
        "outputId": "e4755ac1-02c1-4f63-ac43-cb45dd64a0ef"
      },
      "source": [
        "sess = tf.Session()\n",
        "sess.run(out)"
      ],
      "execution_count": 67,
      "outputs": [
        {
          "output_type": "execute_result",
          "data": {
            "text/plain": [
              "array([[[[37.],\n",
              "         [47.]]]], dtype=float32)"
            ]
          },
          "metadata": {
            "tags": []
          },
          "execution_count": 67
        }
      ]
    },
    {
      "cell_type": "code",
      "metadata": {
        "id": "GUytMcnb8pbb",
        "colab_type": "code",
        "colab": {}
      },
      "source": [
        "# 10 x 10 x 1(h,w,c) 흑백 이미지를 2장 만들어서 임의의 위치에 '+' 패턴을 그려서 필터로 찾아보자\n",
        "y = np.array([[[3,3],[7,7]], [[2,3],[5,5]]])\n",
        "img0 = np.zeros((10,10,1))\n",
        "img1 = np.zeros((10,10,1))\n",
        "x = np.stack((img0, img1), axis=0) \n",
        "x += np.random.rand(2,10,10,1) # 노이즈\n",
        "for i in range(len(y)):#2\n",
        "  label = y[i]\n",
        "  for j in range(len(label)):\n",
        "    point = label[j]  \n",
        "    px = point[0]\n",
        "    py = point[1]\n",
        "    x[i, py-1:py+2, px] += 1\n",
        "    x[i, py, px-1:px+2] += 1  \n",
        "#plt.imshow(x[1,:,:,0], cmap='gray') #패턴 확인"
      ],
      "execution_count": 0,
      "outputs": []
    },
    {
      "cell_type": "code",
      "metadata": {
        "id": "6a-YZ51D-sBT",
        "colab_type": "code",
        "colab": {
          "base_uri": "https://localhost:8080/",
          "height": 283
        },
        "outputId": "add771f7-bb0b-4014-900a-17e2cfd1fa50"
      },
      "source": [
        "filter = np.array([0,1,0,1,1,1,0,1,0], dtype=np.float32).reshape((3,3,1,1))\n",
        "out = tf.nn.conv2d(x, filter, padding='VALID')\n",
        "sess = tf.Session()\n",
        "response = sess.run(out)\n",
        "plt.imshow(response[1,:,:,0], cmap='gray')  # 패턴을 그린 위치에 가장 큰 값이 나타납니다"
      ],
      "execution_count": 96,
      "outputs": [
        {
          "output_type": "execute_result",
          "data": {
            "text/plain": [
              "<matplotlib.image.AxesImage at 0x7fc3bb171748>"
            ]
          },
          "metadata": {
            "tags": []
          },
          "execution_count": 96
        },
        {
          "output_type": "display_data",
          "data": {
            "image/png": "[encoded data removed]",
            "text/plain": [
              "<Figure size 432x288 with 1 Axes>"
            ]
          },
          "metadata": {
            "tags": []
          }
        }
      ]
    },
    {
      "cell_type": "code",
      "metadata": {
        "id": "l2LaxvFG9UID",
        "colab_type": "code",
        "colab": {}
      },
      "source": [
        ""
      ],
      "execution_count": 0,
      "outputs": []
    },
    {
      "cell_type": "code",
      "metadata": {
        "id": "NxhP05RivhaD",
        "colab_type": "code",
        "colab": {
          "base_uri": "https://localhost:8080/",
          "height": 286
        },
        "outputId": "d2dc185f-4a41-4843-f506-28f4188efe62"
      },
      "source": [
        "x = np.arange(-10, 10, 0.1)\n",
        "src = np.sin(x)\n",
        "#dst = np.convolve(src, [-1,0,1,2,1,0,-1], 'same') # 값이 올라갔다 내려오는 위치\n",
        "dst = np.convolve(src, [3,2,1,0,-1,-2,-3], 'same') # 값이 떨어지는 위치\n",
        "plt.plot(src, label='src')\n",
        "plt.plot(dst, label='dst')\n",
        "plt.legend()"
      ],
      "execution_count": 38,
      "outputs": [
        {
          "output_type": "execute_result",
          "data": {
            "text/plain": [
              "<matplotlib.legend.Legend at 0x7fc40db89cc0>"
            ]
          },
          "metadata": {
            "tags": []
          },
          "execution_count": 38
        },
        {
          "output_type": "display_data",
          "data": {
            "image/png": "[encoded data removed]",
            "text/plain": [
              "<Figure size 432x288 with 1 Axes>"
            ]
          },
          "metadata": {
            "tags": []
          }
        }
      ]
    },
    {
      "cell_type": "code",
      "metadata": {
        "id": "c3qwVOf8qG28",
        "colab_type": "code",
        "colab": {
          "base_uri": "https://localhost:8080/",
          "height": 71
        },
        "outputId": "8eb654db-e84e-4ded-a7af-e73eafc47f46"
      },
      "source": [
        "# 미션, 값이 떨어지는 부분을 찾아라\n",
        "# full : 기본, CNN 에서 사용하지 않음\n",
        "# same : 필요하면 패딩을 사용해서 src, out 의 길이가 같게 만듭니다\n",
        "# valid : 패딩 사용 안함\n",
        "x = [1,2,3,4,5]\n",
        "full = np.convolve(x, [1,2])\n",
        "same = np.convolve(x, [1,2], 'same')\n",
        "valid = np.convolve(x, [1,2], 'valid') #필터가 반전\n",
        "#full, same, valid"
      ],
      "execution_count": 59,
      "outputs": [
        {
          "output_type": "execute_result",
          "data": {
            "text/plain": [
              "(array([ 1,  4,  7, 10, 13, 10]),\n",
              " array([ 1,  4,  7, 10, 13]),\n",
              " array([ 4,  7, 10, 13]))"
            ]
          },
          "metadata": {
            "tags": []
          },
          "execution_count": 59
        }
      ]
    },
    {
      "cell_type": "code",
      "metadata": {
        "id": "JIjf3xTizk03",
        "colab_type": "code",
        "colab": {
          "base_uri": "https://localhost:8080/",
          "height": 35
        },
        "outputId": "3318feee-906b-4be0-fd53-ac513bc6114f"
      },
      "source": [
        "len(x), len(y)"
      ],
      "execution_count": 42,
      "outputs": [
        {
          "output_type": "execute_result",
          "data": {
            "text/plain": [
              "(18, 21)"
            ]
          },
          "metadata": {
            "tags": []
          },
          "execution_count": 42
        }
      ]
    },
    {
      "cell_type": "code",
      "metadata": {
        "id": "BltdvTw1qYzB",
        "colab_type": "code",
        "colab": {
          "base_uri": "https://localhost:8080/",
          "height": 35
        },
        "outputId": "6c42aeec-647a-482f-f37a-cf83f3a082d2"
      },
      "source": [
        "np.sum(np.array([0,1,2,3]) * np.array([0,1,0,-1]))"
      ],
      "execution_count": 52,
      "outputs": [
        {
          "output_type": "execute_result",
          "data": {
            "text/plain": [
              "-2"
            ]
          },
          "metadata": {
            "tags": []
          },
          "execution_count": 52
        }
      ]
    },
    {
      "cell_type": "code",
      "metadata": {
        "id": "7O2QhdoCzkNB",
        "colab_type": "code",
        "colab": {}
      },
      "source": [
        ""
      ],
      "execution_count": 0,
      "outputs": []
    },
    {
      "cell_type": "code",
      "metadata": {
        "id": "dMNaQMd3sRnr",
        "colab_type": "code",
        "colab": {
          "base_uri": "https://localhost:8080/",
          "height": 35
        },
        "outputId": "72e83388-65e9-448c-8977-94c41bd57af7"
      },
      "source": [
        "np.sum(np.array([0,1,2]) * np.array([1,1,1]))"
      ],
      "execution_count": 6,
      "outputs": [
        {
          "output_type": "execute_result",
          "data": {
            "text/plain": [
              "3"
            ]
          },
          "metadata": {
            "tags": []
          },
          "execution_count": 6
        }
      ]
    },
    {
      "cell_type": "code",
      "metadata": {
        "id": "ktIKM8fusj09",
        "colab_type": "code",
        "colab": {
          "base_uri": "https://localhost:8080/",
          "height": 35
        },
        "outputId": "94dfc854-4dbf-45e7-bd3f-2498f734cd99"
      },
      "source": [
        "np.sum(np.array([1,2,3]) * np.array([1,1,1]))"
      ],
      "execution_count": 7,
      "outputs": [
        {
          "output_type": "execute_result",
          "data": {
            "text/plain": [
              "6"
            ]
          },
          "metadata": {
            "tags": []
          },
          "execution_count": 7
        }
      ]
    },
    {
      "cell_type": "code",
      "metadata": {
        "id": "BTFmU3FrssHC",
        "colab_type": "code",
        "colab": {
          "base_uri": "https://localhost:8080/",
          "height": 35
        },
        "outputId": "be542c07-816f-4d5d-8871-c55d13f3e67e"
      },
      "source": [
        "np.sum(np.array([2,3,0]) * np.array([1,1,1]))"
      ],
      "execution_count": 9,
      "outputs": [
        {
          "output_type": "execute_result",
          "data": {
            "text/plain": [
              "5"
            ]
          },
          "metadata": {
            "tags": []
          },
          "execution_count": 9
        }
      ]
    },
    {
      "cell_type": "code",
      "metadata": {
        "id": "cHWMIRZ7sxRT",
        "colab_type": "code",
        "colab": {
          "base_uri": "https://localhost:8080/",
          "height": 35
        },
        "outputId": "f25e3213-e812-4ba8-8cb4-5b76b14474c2"
      },
      "source": [
        "np.sum(np.array([3,0,0]) * np.array([1,1,1]))"
      ],
      "execution_count": 10,
      "outputs": [
        {
          "output_type": "execute_result",
          "data": {
            "text/plain": [
              "3"
            ]
          },
          "metadata": {
            "tags": []
          },
          "execution_count": 10
        }
      ]
    }
  ]
}