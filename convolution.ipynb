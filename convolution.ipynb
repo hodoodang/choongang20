{
  "nbformat": 4,
  "nbformat_minor": 0,
  "metadata": {
    "colab": {
      "name": "convolution.ipynb",
      "provenance": [],
      "collapsed_sections": [],
      "authorship_tag": "ABX9TyNbDwmvchfS3qQV9/dQfoIt",
      "include_colab_link": true
    },
    "kernelspec": {
      "name": "python3",
      "display_name": "Python 3"
    }
  },
  "cells": [
    {
      "cell_type": "markdown",
      "metadata": {
        "id": "view-in-github",
        "colab_type": "text"
      },
      "source": [
        "<a href=\"https://colab.research.google.com/github/sogangori/choongang20/blob/master/convolution.ipynb\" target=\"_parent\"><img src=\"https://colab.research.google.com/assets/colab-badge.svg\" alt=\"Open In Colab\"/></a>"
      ]
    },
    {
      "cell_type": "code",
      "metadata": {
        "id": "5dWV04vIp9TV",
        "colab_type": "code",
        "colab": {}
      },
      "source": [
        ""
      ],
      "execution_count": 0,
      "outputs": []
    },
    {
      "cell_type": "markdown",
      "metadata": {
        "id": "kIEAAIxkp_iE",
        "colab_type": "text"
      },
      "source": [
        "convolution 컨볼루션 "
      ]
    },
    {
      "cell_type": "code",
      "metadata": {
        "id": "iPexBkrBqB8t",
        "colab_type": "code",
        "colab": {}
      },
      "source": [
        "import numpy as np\n",
        "import matplotlib.pyplot as plt\n",
        "import tensorflow as tf\n",
        "from tensorflow import keras"
      ],
      "execution_count": 0,
      "outputs": []
    },
    {
      "cell_type": "code",
      "metadata": {
        "id": "QWlZ2mjX44sG",
        "colab_type": "code",
        "colab": {}
      },
      "source": [
        "#tensorflow 이미지 format(m,h,w,c), 필터 format(h,w,c,m), 조건: c 가 같아야 한다\n",
        "input = np.array([1,2,3,4,5,6]).reshape((1,2,3,1)).astype(np.float32)\n",
        "filter = np.array([1,2,3,4]).reshape((2,2,1,1)).astype(np.float32)\n",
        "out = tf.nn.conv2d(input, filter, padding='VALID')"
      ],
      "execution_count": 0,
      "outputs": []
    },
    {
      "cell_type": "code",
      "metadata": {
        "id": "OqC-t_gP6K3s",
        "colab_type": "code",
        "outputId": "e4755ac1-02c1-4f63-ac43-cb45dd64a0ef",
        "colab": {
          "base_uri": "https://localhost:8080/",
          "height": 53
        }
      },
      "source": [
        "sess = tf.Session()\n",
        "sess.run(out)"
      ],
      "execution_count": 0,
      "outputs": [
        {
          "output_type": "execute_result",
          "data": {
            "text/plain": [
              "array([[[[37.],\n",
              "         [47.]]]], dtype=float32)"
            ]
          },
          "metadata": {
            "tags": []
          },
          "execution_count": 67
        }
      ]
    },
    {
      "cell_type": "code",
      "metadata": {
        "id": "GUytMcnb8pbb",
        "colab_type": "code",
        "outputId": "de2f030a-a782-470d-93d4-761f44ba8e10",
        "colab": {
          "base_uri": "https://localhost:8080/",
          "height": 283
        }
      },
      "source": [
        "# 10 x 10 x 1(h,w,c) 흑백 이미지를 2장 만들어서 임의의 위치에 '+' 패턴을 그려서 필터로 찾아보자\n",
        "y = np.array([[[3,3],[7,7]], [[2,3],[5,5]]]) \n",
        "x = np.zeros((2, 10, 10, 1)) # 2장의 흑백 이미지 MHWC-포맷 \n",
        "x += np.random.rand(2, 10, 10, 1) # 노이즈\n",
        "for i in range(len(y)):#2\n",
        "  label = y[i]\n",
        "  for j in range(len(label)):\n",
        "    point = label[j]  \n",
        "    px = point[0]\n",
        "    py = point[1]\n",
        "    x[i, py-1:py+2, px] += 1\n",
        "    x[i, py, px-1:px+2] += 1  \n",
        "plt.imshow(x[1,:,:,0], cmap='gray') #패턴 확인"
      ],
      "execution_count": 0,
      "outputs": [
        {
          "output_type": "execute_result",
          "data": {
            "text/plain": [
              "<matplotlib.image.AxesImage at 0x7fc3b6a5d128>"
            ]
          },
          "metadata": {
            "tags": []
          },
          "execution_count": 135
        },
        {
          "output_type": "display_data",
          "data": {
            "image/png": "[encoded data removed]",
            "text/plain": [
              "<Figure size 432x288 with 1 Axes>"
            ]
          },
          "metadata": {
            "tags": []
          }
        }
      ]
    },
    {
      "cell_type": "code",
      "metadata": {
        "id": "6a-YZ51D-sBT",
        "colab_type": "code",
        "outputId": "2ea05b54-8967-42c5-81fa-2c621165c0b4",
        "colab": {
          "base_uri": "https://localhost:8080/",
          "height": 283
        }
      },
      "source": [
        "#convolution: 이동 불변성 shift invariant, 가중치 공유 weight sharing\n",
        "filter = np.array([0,1,0,1,1,1,0,1,0], dtype=np.float32).reshape((3,3,1,1))#필터:hwcm포맷\n",
        "out = tf.nn.conv2d(x, filter, padding='SAME') # SAME(90%) or VALID(상하좌우 값 1개씩 빠집니다) \n",
        "out = tf.nn.max_pool(out, ksize=2, strides=2, padding='SAME')\n",
        "sess = tf.Session()\n",
        "response = sess.run(out)\n",
        "plt.imshow(response[0,:,:,0], cmap='gray')  # 패턴 위치에서 가장 큰 값이 나타납니다"
      ],
      "execution_count": 0,
      "outputs": [
        {
          "output_type": "execute_result",
          "data": {
            "text/plain": [
              "<matplotlib.image.AxesImage at 0x7fc3bacff748>"
            ]
          },
          "metadata": {
            "tags": []
          },
          "execution_count": 113
        },
        {
          "output_type": "display_data",
          "data": {
            "image/png": "[encoded data removed]",
            "text/plain": [
              "<Figure size 432x288 with 1 Axes>"
            ]
          },
          "metadata": {
            "tags": []
          }
        }
      ]
    },
    {
      "cell_type": "code",
      "metadata": {
        "id": "l2LaxvFG9UID",
        "colab_type": "code",
        "colab": {}
      },
      "source": [
        ""
      ],
      "execution_count": 0,
      "outputs": []
    },
    {
      "cell_type": "code",
      "metadata": {
        "id": "NxhP05RivhaD",
        "colab_type": "code",
        "outputId": "d2dc185f-4a41-4843-f506-28f4188efe62",
        "colab": {
          "base_uri": "https://localhost:8080/",
          "height": 286
        }
      },
      "source": [
        "x = np.arange(-10, 10, 0.1)\n",
        "src = np.sin(x)\n",
        "#dst = np.convolve(src, [-1,0,1,2,1,0,-1], 'same') # 값이 올라갔다 내려오는 위치\n",
        "dst = np.convolve(src, [3,2,1,0,-1,-2,-3], 'same') # 값이 떨어지는 위치\n",
        "plt.plot(src, label='src')\n",
        "plt.plot(dst, label='dst')\n",
        "plt.legend()"
      ],
      "execution_count": 0,
      "outputs": [
        {
          "output_type": "execute_result",
          "data": {
            "text/plain": [
              "<matplotlib.legend.Legend at 0x7fc40db89cc0>"
            ]
          },
          "metadata": {
            "tags": []
          },
          "execution_count": 38
        },
        {
          "output_type": "display_data",
          "data": {
            "image/png": "[encoded data removed]",
            "text/plain": [
              "<Figure size 432x288 with 1 Axes>"
            ]
          },
          "metadata": {
            "tags": []
          }
        }
      ]
    },
    {
      "cell_type": "code",
      "metadata": {
        "id": "c3qwVOf8qG28",
        "colab_type": "code",
        "outputId": "8eb654db-e84e-4ded-a7af-e73eafc47f46",
        "colab": {
          "base_uri": "https://localhost:8080/",
          "height": 71
        }
      },
      "source": [
        "# 미션, 값이 떨어지는 부분을 찾아라\n",
        "# full : 기본, CNN 에서 사용하지 않음\n",
        "# same : 필요하면 패딩을 사용해서 src, out 의 길이가 같게 만듭니다\n",
        "# valid : 패딩 사용 안함\n",
        "x = [1,2,3,4,5]\n",
        "full = np.convolve(x, [1,2])\n",
        "same = np.convolve(x, [1,2], 'same')\n",
        "valid = np.convolve(x, [1,2], 'valid') #필터가 반전\n",
        "#full, same, valid"
      ],
      "execution_count": 0,
      "outputs": [
        {
          "output_type": "execute_result",
          "data": {
            "text/plain": [
              "(array([ 1,  4,  7, 10, 13, 10]),\n",
              " array([ 1,  4,  7, 10, 13]),\n",
              " array([ 4,  7, 10, 13]))"
            ]
          },
          "metadata": {
            "tags": []
          },
          "execution_count": 59
        }
      ]
    },
    {
      "cell_type": "code",
      "metadata": {
        "id": "JIjf3xTizk03",
        "colab_type": "code",
        "outputId": "3318feee-906b-4be0-fd53-ac513bc6114f",
        "colab": {
          "base_uri": "https://localhost:8080/",
          "height": 35
        }
      },
      "source": [
        "len(x), len(y)"
      ],
      "execution_count": 0,
      "outputs": [
        {
          "output_type": "execute_result",
          "data": {
            "text/plain": [
              "(18, 21)"
            ]
          },
          "metadata": {
            "tags": []
          },
          "execution_count": 42
        }
      ]
    },
    {
      "cell_type": "code",
      "metadata": {
        "id": "BltdvTw1qYzB",
        "colab_type": "code",
        "outputId": "6c42aeec-647a-482f-f37a-cf83f3a082d2",
        "colab": {
          "base_uri": "https://localhost:8080/",
          "height": 35
        }
      },
      "source": [
        "np.sum(np.array([0,1,2,3]) * np.array([0,1,0,-1]))"
      ],
      "execution_count": 0,
      "outputs": [
        {
          "output_type": "execute_result",
          "data": {
            "text/plain": [
              "-2"
            ]
          },
          "metadata": {
            "tags": []
          },
          "execution_count": 52
        }
      ]
    },
    {
      "cell_type": "code",
      "metadata": {
        "id": "7O2QhdoCzkNB",
        "colab_type": "code",
        "colab": {}
      },
      "source": [
        ""
      ],
      "execution_count": 0,
      "outputs": []
    },
    {
      "cell_type": "code",
      "metadata": {
        "id": "dMNaQMd3sRnr",
        "colab_type": "code",
        "outputId": "72e83388-65e9-448c-8977-94c41bd57af7",
        "colab": {
          "base_uri": "https://localhost:8080/",
          "height": 35
        }
      },
      "source": [
        "np.sum(np.array([0,1,2]) * np.array([1,1,1]))"
      ],
      "execution_count": 0,
      "outputs": [
        {
          "output_type": "execute_result",
          "data": {
            "text/plain": [
              "3"
            ]
          },
          "metadata": {
            "tags": []
          },
          "execution_count": 6
        }
      ]
    },
    {
      "cell_type": "code",
      "metadata": {
        "id": "ktIKM8fusj09",
        "colab_type": "code",
        "outputId": "94dfc854-4dbf-45e7-bd3f-2498f734cd99",
        "colab": {
          "base_uri": "https://localhost:8080/",
          "height": 35
        }
      },
      "source": [
        "np.sum(np.array([1,2,3]) * np.array([1,1,1]))"
      ],
      "execution_count": 0,
      "outputs": [
        {
          "output_type": "execute_result",
          "data": {
            "text/plain": [
              "6"
            ]
          },
          "metadata": {
            "tags": []
          },
          "execution_count": 7
        }
      ]
    },
    {
      "cell_type": "code",
      "metadata": {
        "id": "BTFmU3FrssHC",
        "colab_type": "code",
        "outputId": "be542c07-816f-4d5d-8871-c55d13f3e67e",
        "colab": {
          "base_uri": "https://localhost:8080/",
          "height": 35
        }
      },
      "source": [
        "np.sum(np.array([2,3,0]) * np.array([1,1,1]))"
      ],
      "execution_count": 0,
      "outputs": [
        {
          "output_type": "execute_result",
          "data": {
            "text/plain": [
              "5"
            ]
          },
          "metadata": {
            "tags": []
          },
          "execution_count": 9
        }
      ]
    },
    {
      "cell_type": "code",
      "metadata": {
        "id": "cHWMIRZ7sxRT",
        "colab_type": "code",
        "outputId": "f25e3213-e812-4ba8-8cb4-5b76b14474c2",
        "colab": {
          "base_uri": "https://localhost:8080/",
          "height": 35
        }
      },
      "source": [
        "np.sum(np.array([3,0,0]) * np.array([1,1,1]))"
      ],
      "execution_count": 0,
      "outputs": [
        {
          "output_type": "execute_result",
          "data": {
            "text/plain": [
              "3"
            ]
          },
          "metadata": {
            "tags": []
          },
          "execution_count": 10
        }
      ]
    },
    {
      "cell_type": "code",
      "metadata": {
        "id": "6OXAIvkSJjm5",
        "colab_type": "code",
        "outputId": "d9bb3b3b-8485-4c12-af5a-08e3b6fe0e01",
        "colab": {
          "base_uri": "https://localhost:8080/",
          "height": 35
        }
      },
      "source": [
        "from sklearn.datasets import load_digits\n",
        "data = load_digits()\n",
        "x = data.images\n",
        "y = data.target\n",
        "x.shape, y.shape"
      ],
      "execution_count": 0,
      "outputs": [
        {
          "output_type": "execute_result",
          "data": {
            "text/plain": [
              "((1797, 8, 8), (1797,))"
            ]
          },
          "metadata": {
            "tags": []
          },
          "execution_count": 138
        }
      ]
    },
    {
      "cell_type": "code",
      "metadata": {
        "id": "XJzbostVKJHR",
        "colab_type": "code",
        "colab": {}
      },
      "source": [
        "from tensorflow import keras"
      ],
      "execution_count": 0,
      "outputs": []
    },
    {
      "cell_type": "code",
      "metadata": {
        "id": "wdJ2IZmwKQ5D",
        "colab_type": "code",
        "colab": {}
      },
      "source": [
        "model = keras.Sequential()\n",
        "model.add(keras.layers.Input((8,8,1)))\n",
        "model.add(keras.layers.Conv2D(3, [3,3], padding='same'))#필터 갯수 32, 크기 [3,3]\n",
        "model.add(keras.layers.MaxPool2D((2,2), padding='same'))\n",
        "model.add(keras.layers.Conv2D(6, [3,3], padding='same'))\n",
        "model.add(keras.layers.MaxPool2D((2,2), padding='same'))\n",
        "model.add(keras.layers.Flatten())# 1D 로 모양 바꾸기\n",
        "model.add(keras.layers.Dense(10, activation=keras.layers.Softmax())) # 클래스가 10개이므로 \n",
        "model.compile(loss=keras.losses.SparseCategoricalCrossentropy(), metrics=['accuracy'])\n",
        "#model.summary()"
      ],
      "execution_count": 0,
      "outputs": []
    },
    {
      "cell_type": "code",
      "metadata": {
        "id": "p1GERWklL7fy",
        "colab_type": "code",
        "outputId": "34ff0d4a-6c86-42bc-b160-c1972caeb846",
        "colab": {
          "base_uri": "https://localhost:8080/",
          "height": 778
        }
      },
      "source": [
        "x_4d = np.expand_dims(x, -1)\n",
        "model.fit(x_4d, y, epochs=2)\n",
        "#model.predict(x_4d[:1])"
      ],
      "execution_count": 0,
      "outputs": [
        {
          "output_type": "stream",
          "text": [
            "Train on 1797 samples\n",
            "Epoch 1/20\n",
            "1797/1797 [==============================] - 0s 113us/sample - loss: 0.0665 - acc: 0.9827\n",
            "Epoch 2/20\n",
            "1797/1797 [==============================] - 0s 106us/sample - loss: 0.0663 - acc: 0.9811\n",
            "Epoch 3/20\n",
            "1797/1797 [==============================] - 0s 107us/sample - loss: 0.0630 - acc: 0.9844\n",
            "Epoch 4/20\n",
            "1797/1797 [==============================] - 0s 107us/sample - loss: 0.0638 - acc: 0.9839\n",
            "Epoch 5/20\n",
            "1797/1797 [==============================] - 0s 110us/sample - loss: 0.0590 - acc: 0.9844\n",
            "Epoch 6/20\n",
            "1797/1797 [==============================] - 0s 106us/sample - loss: 0.0594 - acc: 0.9822\n",
            "Epoch 7/20\n",
            "1797/1797 [==============================] - 0s 107us/sample - loss: 0.0560 - acc: 0.9861\n",
            "Epoch 8/20\n",
            "1797/1797 [==============================] - 0s 107us/sample - loss: 0.0561 - acc: 0.9844\n",
            "Epoch 9/20\n",
            "1797/1797 [==============================] - 0s 110us/sample - loss: 0.0537 - acc: 0.9850\n",
            "Epoch 10/20\n",
            "1797/1797 [==============================] - 0s 108us/sample - loss: 0.0539 - acc: 0.9861\n",
            "Epoch 11/20\n",
            "1797/1797 [==============================] - 0s 112us/sample - loss: 0.0502 - acc: 0.9872\n",
            "Epoch 12/20\n",
            "1797/1797 [==============================] - 0s 107us/sample - loss: 0.0487 - acc: 0.9889\n",
            "Epoch 13/20\n",
            "1797/1797 [==============================] - 0s 108us/sample - loss: 0.0485 - acc: 0.9872\n",
            "Epoch 14/20\n",
            "1797/1797 [==============================] - 0s 112us/sample - loss: 0.0472 - acc: 0.9883\n",
            "Epoch 15/20\n",
            "1797/1797 [==============================] - 0s 114us/sample - loss: 0.0463 - acc: 0.9878\n",
            "Epoch 16/20\n",
            "1797/1797 [==============================] - 0s 114us/sample - loss: 0.0425 - acc: 0.9917\n",
            "Epoch 17/20\n",
            "1797/1797 [==============================] - 0s 113us/sample - loss: 0.0417 - acc: 0.9905\n",
            "Epoch 18/20\n",
            "1797/1797 [==============================] - 0s 113us/sample - loss: 0.0413 - acc: 0.9883\n",
            "Epoch 19/20\n",
            "1797/1797 [==============================] - 0s 110us/sample - loss: 0.0418 - acc: 0.9878\n",
            "Epoch 20/20\n",
            "1797/1797 [==============================] - 0s 123us/sample - loss: 0.0384 - acc: 0.9911\n"
          ],
          "name": "stdout"
        },
        {
          "output_type": "execute_result",
          "data": {
            "text/plain": [
              "<tensorflow.python.keras.callbacks.History at 0x7fc3b6ab8e80>"
            ]
          },
          "metadata": {
            "tags": []
          },
          "execution_count": 143
        }
      ]
    },
    {
      "cell_type": "code",
      "metadata": {
        "id": "NlWoiLq9KU0O",
        "colab_type": "code",
        "colab": {}
      },
      "source": [
        ""
      ],
      "execution_count": 0,
      "outputs": []
    }
  ]
}