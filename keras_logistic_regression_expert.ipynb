{
  "nbformat": 4,
  "nbformat_minor": 0,
  "metadata": {
    "colab": {
      "name": "keras_logistic_regression_expert.ipynb",
      "provenance": [],
      "collapsed_sections": [],
      "authorship_tag": "ABX9TyMquF37bYOPHHoIFt0gqR0I",
      "include_colab_link": true
    },
    "kernelspec": {
      "name": "python3",
      "display_name": "Python 3"
    }
  },
  "cells": [
    {
      "cell_type": "markdown",
      "metadata": {
        "id": "view-in-github",
        "colab_type": "text"
      },
      "source": [
        "<a href=\"https://colab.research.google.com/github/sogangori/choongang20/blob/master/keras_logistic_regression_expert.ipynb\" target=\"_parent\"><img src=\"https://colab.research.google.com/assets/colab-badge.svg\" alt=\"Open In Colab\"/></a>"
      ]
    },
    {
      "cell_type": "markdown",
      "metadata": {
        "id": "fij6UQxb5-R0",
        "colab_type": "text"
      },
      "source": [
        "공유 : http://bitly.kr/vAZP7yRR  , github.com/sogangori/choongang20\n"
      ]
    },
    {
      "cell_type": "code",
      "metadata": {
        "id": "SGEdA-1b5_eH",
        "colab_type": "code",
        "colab": {}
      },
      "source": [
        "%tensorflow_version 2.x\n",
        "import tensorflow as tf\n",
        "from tensorflow import keras\n",
        "import numpy as np\n",
        "from sklearn.datasets import load_iris"
      ],
      "execution_count": 0,
      "outputs": []
    },
    {
      "cell_type": "code",
      "metadata": {
        "id": "l-K2UTLN7A43",
        "colab_type": "code",
        "colab": {
          "base_uri": "https://localhost:8080/",
          "height": 35
        },
        "outputId": "5b5554fd-5a35-410d-a997-7ad6291c95c7"
      },
      "source": [
        "x, y = load_iris(return_X_y=True)\n",
        "x.shape, y.shape, set(y) # 150개의 데이터, 클래스 k=3"
      ],
      "execution_count": 28,
      "outputs": [
        {
          "output_type": "execute_result",
          "data": {
            "text/plain": [
              "((150, 4), (150,), {0, 1, 2})"
            ]
          },
          "metadata": {
            "tags": []
          },
          "execution_count": 28
        }
      ]
    },
    {
      "cell_type": "code",
      "metadata": {
        "id": "P8WPWa2g7WK0",
        "colab_type": "code",
        "colab": {}
      },
      "source": [
        "class MyModel(keras.Model):\n",
        "  def __init__(self):\n",
        "    super(MyModel, self).__init__()#상속한 클래스의 생성자 호출 \n",
        "    self.opt = tf.optimizers.SGD(learning_rate=0.01)#Stochatic Gradient Descent 확률적 경사 하강\n",
        "    self.dense = keras.layers.Dense(units=3, activation=keras.activations.softmax)\n",
        "  \n",
        "  def call(self, x):\n",
        "    h = self.dense(x)    \n",
        "    return h\n",
        "\n",
        "  def get_loss(self, y, h):\n",
        "    cross_entropy = - (y * tf.math.log(h) + (1 - y) * tf.math.log(1 - h)) \n",
        "    loss = tf.reduce_mean(cross_entropy)\n",
        "    return loss\n",
        "\n",
        "  def get_accuracy(self, y, h):\n",
        "    # h 3개의 확률: (m, 3), y: (m)\n",
        "    predict = tf.argmax(h, -1)\n",
        "    self.acc = tf.reduce_mean(tf.cast(tf.equal(y, predict), tf.float32)) # True > 1, False > 0 로 cast\n",
        "\n",
        "  def fit(self, x, y, epoch=1):\n",
        "    # x : (m, 4), y: (m)    \n",
        "    y_hot = tf.one_hot(y, depth=3, axis=-1)#(m, 3)    \n",
        "    for i in range(epoch):\n",
        "      with tf.GradientTape() as tape: #경사 기록 장치\n",
        "        h = self.call(x)\n",
        "        loss = self.get_loss(y_hot, h)\n",
        "      grads = tape.gradient(loss, self.trainable_variables) #경사 계산\n",
        "      self.opt.apply_gradients(zip(grads, self.trainable_variables)) # 가중치에서 경사를 빼기\n",
        "      self.get_accuracy(y, h)\n",
        "      print('%d/%d loss:%.3f acc:%.3f'%(i, epoch, loss, self.acc))\n",
        "model = MyModel()"
      ],
      "execution_count": 0,
      "outputs": []
    },
    {
      "cell_type": "code",
      "metadata": {
        "id": "B-1_XOwmCMX-",
        "colab_type": "code",
        "colab": {
          "base_uri": "https://localhost:8080/",
          "height": 327
        },
        "outputId": "dd265bb8-1a6c-4f64-9364-c5c5768852ba"
      },
      "source": [
        "model.fit(x, y, 10)"
      ],
      "execution_count": 64,
      "outputs": [
        {
          "output_type": "stream",
          "text": [
            "WARNING:tensorflow:Layer dense_15 is casting an input tensor from dtype float64 to the layer's dtype of float32, which is new behavior in TensorFlow 2.  The layer has dtype float32 because it's dtype defaults to floatx.\n",
            "\n",
            "If you intended to run this layer in float32, you can safely ignore this warning. If in doubt, this warning is likely only an issue if you are porting a TensorFlow 1.X model to TensorFlow 2.\n",
            "\n",
            "To change all layers to have dtype float64 by default, call `tf.keras.backend.set_floatx('float64')`. To change just this layer, pass dtype='float64' to the layer constructor. If you are the author of this layer, you can disable autocasting by passing autocast=False to the base Layer constructor.\n",
            "\n",
            "0/10 loss:1.033 acc:0.647\n",
            "1/10 loss:1.018 acc:0.653\n",
            "2/10 loss:1.002 acc:0.653\n",
            "3/10 loss:0.987 acc:0.653\n",
            "4/10 loss:0.972 acc:0.653\n",
            "5/10 loss:0.957 acc:0.653\n",
            "6/10 loss:0.942 acc:0.653\n",
            "7/10 loss:0.927 acc:0.653\n",
            "8/10 loss:0.912 acc:0.653\n",
            "9/10 loss:0.898 acc:0.653\n"
          ],
          "name": "stdout"
        }
      ]
    },
    {
      "cell_type": "code",
      "metadata": {
        "id": "T8sSRZpOGL8G",
        "colab_type": "code",
        "colab": {
          "base_uri": "https://localhost:8080/",
          "height": 35
        },
        "outputId": "c39fd1e3-1d3d-4a86-b9e1-a428d2020cdf"
      },
      "source": [
        "h = model(x[:1])\n",
        "print(np.array(h)) #확률"
      ],
      "execution_count": 60,
      "outputs": [
        {
          "output_type": "stream",
          "text": [
            "[[0.7783411  0.18895338 0.03270547]]\n"
          ],
          "name": "stdout"
        }
      ]
    },
    {
      "cell_type": "code",
      "metadata": {
        "id": "hmr_GImWCDqb",
        "colab_type": "code",
        "colab": {}
      },
      "source": [
        ""
      ],
      "execution_count": 0,
      "outputs": []
    }
  ]
}