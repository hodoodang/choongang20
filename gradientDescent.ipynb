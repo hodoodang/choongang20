{
  "nbformat": 4,
  "nbformat_minor": 0,
  "metadata": {
    "colab": {
      "name": "gradientDescent.ipynb",
      "provenance": [],
      "collapsed_sections": [],
      "authorship_tag": "ABX9TyNiBm19GsPOUdpHf1wEz47B",
      "include_colab_link": true
    },
    "kernelspec": {
      "name": "python3",
      "display_name": "Python 3"
    }
  },
  "cells": [
    {
      "cell_type": "markdown",
      "metadata": {
        "id": "view-in-github",
        "colab_type": "text"
      },
      "source": [
        "<a href=\"https://colab.research.google.com/github/sogangori/choongang20/blob/master/gradientDescent.ipynb\" target=\"_parent\"><img src=\"https://colab.research.google.com/assets/colab-badge.svg\" alt=\"Open In Colab\"/></a>"
      ]
    },
    {
      "cell_type": "code",
      "metadata": {
        "id": "TYzJGPPiSbaS",
        "colab_type": "code",
        "colab": {}
      },
      "source": [
        "%tensorflow_version 2.x\n",
        "import tensorflow as tf"
      ],
      "execution_count": 0,
      "outputs": []
    },
    {
      "cell_type": "code",
      "metadata": {
        "id": "ksE0jdHXSe_1",
        "colab_type": "code",
        "colab": {
          "base_uri": "https://localhost:8080/",
          "height": 35
        },
        "outputId": "871f6a0b-eef2-48a3-f1d4-7615b7bfbc60"
      },
      "source": [
        "tf.__version__ # 1.15 도 실제로는 내부구현이 tensorflow 2.0 과 동일합니다"
      ],
      "execution_count": 69,
      "outputs": [
        {
          "output_type": "execute_result",
          "data": {
            "text/plain": [
              "'2.1.0'"
            ]
          },
          "metadata": {
            "tags": []
          },
          "execution_count": 69
        }
      ]
    },
    {
      "cell_type": "markdown",
      "metadata": {
        "id": "eGbuln5wTEnc",
        "colab_type": "text"
      },
      "source": [
        "경사하강법 : Gradient Descent Optimization\n",
        "- 경사 : 미분하면 경사를 구할수 있습니다."
      ]
    },
    {
      "cell_type": "code",
      "metadata": {
        "id": "Uk-GIufoXOlq",
        "colab_type": "code",
        "colab": {}
      },
      "source": [
        "x = [1]#,2,3,4,5.0] #실수로 만들기 위해 .0 하나 붙였습니다\n",
        "y = [3]#,5,7,9,11.0]\n",
        "# y = w * x + b\n",
        "w = tf.Variable(10.0) # 변수 : 학습되는 파라미터, 초기값 1.0\n",
        "b = tf.Variable(0.0) # 초기값 0"
      ],
      "execution_count": 0,
      "outputs": []
    },
    {
      "cell_type": "code",
      "metadata": {
        "id": "1CT5YRVMSiNs",
        "colab_type": "code",
        "colab": {
          "base_uri": "https://localhost:8080/",
          "height": 71
        },
        "outputId": "895e71db-442e-4a7c-9075-316497cd505d"
      },
      "source": [
        "for i in range(1):\n",
        "  with tf.GradientTape() as tape:#경사 기록 장치:안에서 수행되는 연산의 경사가 기록됩니다\n",
        "    h = w * x + b #(Hyperthesis 가설, 예측)\n",
        "    cost = tf.reduce_mean(tf.square(h - y)) #Mean평균 Square제곱 Error 오차\n",
        "  w_grad, b_grad = tape.gradient(cost, [w, b])\n",
        "  learning_rate = 0.01\n",
        "  print('w_grad',i,w_grad)\n",
        "  w.assign_sub(learning_rate * w_grad)\n",
        "  b.assign_sub(learning_rate * b_grad)\n",
        "w, b"
      ],
      "execution_count": 78,
      "outputs": [
        {
          "output_type": "stream",
          "text": [
            "w_grad 0 tf.Tensor(14.0, shape=(), dtype=float32)\n"
          ],
          "name": "stdout"
        },
        {
          "output_type": "execute_result",
          "data": {
            "text/plain": [
              "(<tf.Variable 'Variable:0' shape=() dtype=float32, numpy=9.86>,\n",
              " <tf.Variable 'Variable:0' shape=() dtype=float32, numpy=-0.14>)"
            ]
          },
          "metadata": {
            "tags": []
          },
          "execution_count": 78
        }
      ]
    },
    {
      "cell_type": "code",
      "metadata": {
        "id": "vHCCEQveue9i",
        "colab_type": "code",
        "colab": {}
      },
      "source": [
        "x = [1,2,3,4,5.0]\n",
        "y = [3,5,7,9,11.0]"
      ],
      "execution_count": 0,
      "outputs": []
    },
    {
      "cell_type": "code",
      "metadata": {
        "id": "8AvgopJMZE9c",
        "colab_type": "code",
        "colab": {
          "base_uri": "https://localhost:8080/",
          "height": 35
        },
        "outputId": "d2e93689-9d61-46e2-950b-1163172bb22a"
      },
      "source": [
        "#model = keras.Sequencial() # 기본적.기초적인 사용법이라 커스터마이징이 어렵습니다\n",
        "import tensorflow as tf\n",
        "from tensorflow import keras\n",
        "import numpy as np\n",
        "class SimpleModel(tf.keras.Model):\n",
        "  def __init__(self):\n",
        "    super(SimpleModel, self).__init__()\n",
        "    print('init')\n",
        "    self.dense_0 = keras.layers.Dense(1)  # dense:fully connected layer 완전 연결 층\n",
        "  def call(self, x):\n",
        "    h = self.dense_0(x)\n",
        "    h = tf.squeeze(h, axis=1) # (m, 1) 을 (m) 으로 차원축소합니다\n",
        "    return h\n",
        "model = SimpleModel()  \n",
        "optimizer = tf.optimizers.SGD(learning_rate=0.01)\n",
        "def loss(y, h):\n",
        "  return tf.reduce_mean(tf.square(y-h))\n",
        "def update(x, y):\n",
        "  with tf.GradientTape() as tape:\n",
        "    h = model(x)\n",
        "    cost = loss(y, h)\n",
        "  grads = tape.gradient(cost, model.trainable_variables)\n",
        "  optimizer.apply_gradients(zip(grads, model.trainable_variables))#통합;concat, stack, zip\n",
        "  return cost, grads "
      ],
      "execution_count": 136,
      "outputs": [
        {
          "output_type": "stream",
          "text": [
            "init\n"
          ],
          "name": "stdout"
        }
      ]
    },
    {
      "cell_type": "code",
      "metadata": {
        "id": "tQ0fP9xzuMfP",
        "colab_type": "code",
        "colab": {
          "base_uri": "https://localhost:8080/",
          "height": 55
        },
        "outputId": "8c311bdf-2426-42d8-94c9-3cbb426800e9"
      },
      "source": [
        "x_2d = np.array(x).reshape([-1, 1]).astype(np.float32)\n",
        "y = np.array(y).astype(np.float32)\n",
        "for i in range(20):\n",
        "  update(x_2d, y)\n",
        "print('finish', model.trainable_variables) # 값 확인 "
      ],
      "execution_count": 137,
      "outputs": [
        {
          "output_type": "stream",
          "text": [
            "finish [<tf.Variable 'simple_model_10/dense_8/kernel:0' shape=(1, 1) dtype=float32, numpy=array([[1.6875376]], dtype=float32)>, <tf.Variable 'simple_model_10/dense_8/bias:0' shape=(1,) dtype=float32, numpy=array([0.87880105], dtype=float32)>]\n"
          ],
          "name": "stdout"
        }
      ]
    },
    {
      "cell_type": "code",
      "metadata": {
        "id": "Ooz7GNKAumg-",
        "colab_type": "code",
        "colab": {}
      },
      "source": [
        ""
      ],
      "execution_count": 0,
      "outputs": []
    }
  ]
}