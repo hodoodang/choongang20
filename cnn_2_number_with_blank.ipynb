{
  "nbformat": 4,
  "nbformat_minor": 0,
  "metadata": {
    "colab": {
      "name": "cnn_2_number_with_blank.ipynb",
      "provenance": [],
      "collapsed_sections": [],
      "authorship_tag": "ABX9TyMGeM6okDGzP0k2dVcKnbJ9",
      "include_colab_link": true
    },
    "kernelspec": {
      "name": "python3",
      "display_name": "Python 3"
    }
  },
  "cells": [
    {
      "cell_type": "markdown",
      "metadata": {
        "id": "view-in-github",
        "colab_type": "text"
      },
      "source": [
        "<a href=\"https://colab.research.google.com/github/sogangori/choongang20/blob/master/cnn_2_number_with_blank.ipynb\" target=\"_parent\"><img src=\"https://colab.research.google.com/assets/colab-badge.svg\" alt=\"Open In Colab\"/></a>"
      ]
    },
    {
      "cell_type": "markdown",
      "metadata": {
        "id": "GwB_XHDH1_Gw",
        "colab_type": "text"
      },
      "source": [
        "2 자리수 숫자, 공백 CNN 분류기 "
      ]
    },
    {
      "cell_type": "code",
      "metadata": {
        "id": "ClP9Ucwu2BPH",
        "colab_type": "code",
        "colab": {}
      },
      "source": [
        "%tensorflow_version 2.x\n",
        "import tensorflow as tf\n",
        "from tensorflow import keras\n",
        "import numpy as np\n",
        "import matplotlib.pyplot as plt\n",
        "from sklearn.datasets import load_digits"
      ],
      "execution_count": 0,
      "outputs": []
    },
    {
      "cell_type": "code",
      "metadata": {
        "id": "JpD1SwyB4aXo",
        "colab_type": "code",
        "colab": {}
      },
      "source": [
        "tf.keras.backend.set_floatx('float64')"
      ],
      "execution_count": 0,
      "outputs": []
    },
    {
      "cell_type": "code",
      "metadata": {
        "id": "W5nLNSOT2Iol",
        "colab_type": "code",
        "outputId": "43ad6814-4b27-42e9-cc5e-18c4c4e7d21a",
        "colab": {
          "base_uri": "https://localhost:8080/",
          "height": 35
        }
      },
      "source": [
        "x, y = load_digits(return_X_y=True)\n",
        "x.shape, y.shape, set(y)"
      ],
      "execution_count": 75,
      "outputs": [
        {
          "output_type": "execute_result",
          "data": {
            "text/plain": [
              "((1797, 64), (1797,), {0, 1, 2, 3, 4, 5, 6, 7, 8, 9})"
            ]
          },
          "metadata": {
            "tags": []
          },
          "execution_count": 75
        }
      ]
    },
    {
      "cell_type": "markdown",
      "metadata": {
        "id": "ucqLIsAHfGEy",
        "colab_type": "text"
      },
      "source": [
        "학습데이터와 테스트 데이터를 나눕니다"
      ]
    },
    {
      "cell_type": "code",
      "metadata": {
        "id": "dmiRMc44dpfa",
        "colab_type": "code",
        "outputId": "bc4c502f-c976-4495-e748-83aaf9c633d4",
        "colab": {
          "base_uri": "https://localhost:8080/",
          "height": 35
        }
      },
      "source": [
        "m = len(y)//2\n",
        "x_test = x[m:m*2]\n",
        "y_test = y[m:m*2]\n",
        "x_test = np.reshape(x_test, [-1, 8, 8])\n",
        "x_test.shape, y_test.shape"
      ],
      "execution_count": 83,
      "outputs": [
        {
          "output_type": "execute_result",
          "data": {
            "text/plain": [
              "((898, 8, 8), (898,))"
            ]
          },
          "metadata": {
            "tags": []
          },
          "execution_count": 83
        }
      ]
    },
    {
      "cell_type": "markdown",
      "metadata": {
        "id": "g5Jh-Eb1dwQB",
        "colab_type": "text"
      },
      "source": [
        "이미지를 2개씩 좌우로 붙여서 합성데이터를 만듭니다\n"
      ]
    },
    {
      "cell_type": "code",
      "metadata": {
        "id": "rMTjpasteKRb",
        "colab_type": "code",
        "outputId": "84042664-858e-4d04-d9c7-e8bbdb40248e",
        "colab": {
          "base_uri": "https://localhost:8080/",
          "height": 35
        }
      },
      "source": [
        "x_test_l, x_test_r = np.split(x_test, 2, axis=0) \n",
        "x_test_lr = np.concatenate((x_test_l, x_test_r), axis=2)\n",
        "y_test_l, y_test_r = np.split(y_test, 2, axis=0) \n",
        "y_test = np.stack((y_test_l, y_test_r), -1)\n",
        "x_test_lr.shape, y_test.shape"
      ],
      "execution_count": 84,
      "outputs": [
        {
          "output_type": "execute_result",
          "data": {
            "text/plain": [
              "((449, 8, 16), (449, 2))"
            ]
          },
          "metadata": {
            "tags": []
          },
          "execution_count": 84
        }
      ]
    },
    {
      "cell_type": "markdown",
      "metadata": {
        "id": "YpdAKQ3e2Kf6",
        "colab_type": "text"
      },
      "source": [
        "우측에 비어있는 이미지를 붙여서 한자리수 데이터를 만듭니다"
      ]
    },
    {
      "cell_type": "code",
      "metadata": {
        "id": "E7tkRlIj2HVi",
        "colab_type": "code",
        "colab": {
          "base_uri": "https://localhost:8080/",
          "height": 35
        },
        "outputId": "9bfe3970-f42a-4ad2-8f02-11ed675174b6"
      },
      "source": [
        "BLANK = 10 #'없음' 을 나타내는 기호\n",
        "x_test_blank = np.concatenate((x_test_l, np.zeros_like(x_test_r)), axis=2)\n",
        "y_test_blank = np.stack((y_test_l, np.zeros_like(y_test_l) + BLANK), 1)#좌측 영상의 y와 빈 영상의 y를 통합\n",
        "\n",
        "x_test_set = np.concatenate((x_test_lr, x_test_blank), 0)# 두자리수 영상과 한자리수 영상을 통합\n",
        "y_test_set = np.concatenate((y_test, y_test_blank), 0)#두자리수 y와 한자리수 y 를 통합\n",
        "x_test_set.shape, y_test_set.shape"
      ],
      "execution_count": 91,
      "outputs": [
        {
          "output_type": "execute_result",
          "data": {
            "text/plain": [
              "((898, 8, 16), (898, 2))"
            ]
          },
          "metadata": {
            "tags": []
          },
          "execution_count": 91
        }
      ]
    },
    {
      "cell_type": "code",
      "metadata": {
        "id": "uFknXaGK2o9C",
        "colab_type": "code",
        "colab": {
          "base_uri": "https://localhost:8080/",
          "height": 249
        },
        "outputId": "b8ea23ee-7bd9-4733-8700-5c9bdd438c3e"
      },
      "source": [
        "i = 0\n",
        "plt.title('y: '+str(y_test_set[i]))\n",
        "plt.imshow(x_test_set[i].reshape((8,-1)))"
      ],
      "execution_count": 101,
      "outputs": [
        {
          "output_type": "execute_result",
          "data": {
            "text/plain": [
              "<matplotlib.image.AxesImage at 0x7f06771d2828>"
            ]
          },
          "metadata": {
            "tags": []
          },
          "execution_count": 101
        },
        {
          "output_type": "display_data",
          "data": {
            "image/png": "[encoded data removed]",
            "text/plain": [
              "<Figure size 432x288 with 1 Axes>"
            ]
          },
          "metadata": {
            "tags": []
          }
        }
      ]
    },
    {
      "cell_type": "code",
      "metadata": {
        "id": "qUKdrSy746j6",
        "colab_type": "code",
        "colab": {}
      },
      "source": [
        "class MyModel(keras.Model): # github.com/sogangori/choongang20/ \n",
        "  def __init__(self):    \n",
        "    super(MyModel, self).__init__()\n",
        "    self.k = 10+1 # 클래스 갯수 \n",
        "    self.seq = 2 # 자릿수\n",
        "    self.opt = tf.optimizers.SGD(learning_rate=0.01)#Stochatic Gradient Descent 확률적 경사 하강\n",
        "    self.conv0 = keras.layers.Conv2D(16, [3,3], padding='same', activation=keras.activations.relu)\n",
        "    self.conv1 = keras.layers.Conv2D(32, [3,3], padding='same', activation=keras.activations.relu)\n",
        "    self.pool0 = keras.layers.MaxPool2D([2,2], padding='same')\n",
        "    self.pool1 = keras.layers.MaxPool2D([2,2], padding='same')\n",
        "    self.flatten = keras.layers.Flatten()\n",
        "    self.dense = keras.layers.Dense(units=self.k * self.seq)\n",
        "  \n",
        "  def call(self, x):\n",
        "    #x (1797, 64)\n",
        "    x_4d = tf.reshape(x, [-1,8,8*2,1]) \n",
        "    x_4d = tf.cast(x_4d, tf.float32)\n",
        "    net = self.conv0(x_4d)\n",
        "    net = self.pool0(net)\n",
        "    net = self.conv1(net)\n",
        "    net = self.pool1(net)\n",
        "    net = self.flatten(net)    \n",
        "    h = self.dense(net)\n",
        "    h = tf.reshape(h, [-1, self.seq, self.k]) # 2:두자리수, 10:10개의 클래스 \n",
        "    h = tf.nn.softmax(h, axis=2)\n",
        "    return h\n",
        "\n",
        "  def get_loss(self, y, h):\n",
        "    #학습할때 nan이 발생하는 경우 값을 clip(자르다) (최소값, 최대값) \n",
        "    h = tf.clip_by_value(h, 1e-8, 1 - 1e-8) # h 가 0이나 1이 되지 않도록 하는 안전장치 \n",
        "    cross_entropy = - (y * tf.math.log(h) + (1 - y) * tf.math.log(1 - h)) \n",
        "    loss = tf.reduce_mean(cross_entropy)\n",
        "    return loss\n",
        "\n",
        "  def get_accuracy(self, y, h):    \n",
        "    predict = tf.argmax(h, -1)\n",
        "    is_equal = tf.equal(y, predict)\n",
        "    self.acc = tf.reduce_mean(tf.cast(is_equal, tf.float32)) # True > 1, False > 0 로 cast\n",
        "    self.acc_all = tf.reduce_mean(tf.cast(tf.reduce_all(is_equal, axis=1), tf.float32))\n",
        "\n",
        "  def fit(self, x, y, epoch=1):\n",
        "    # x : (m, 8, 16), y: (m, 2)    \n",
        "    y_hot = tf.one_hot(y, depth=self.k, axis=-1)#(m, 2, 10)  \n",
        "    for i in range(epoch):\n",
        "      with tf.GradientTape() as tape: #경사 기록 장치\n",
        "        h = self.call(x)\n",
        "        loss = self.get_loss(y_hot, h)        \n",
        "      grads = tape.gradient(loss, self.trainable_variables) #경사 계산\n",
        "      self.opt.apply_gradients(zip(grads, self.trainable_variables)) # 가중치에서 경사를 빼기\n",
        "      self.get_accuracy(y, h)\n",
        "      if i%10==0:\n",
        "        print('%d/%d loss:%.3f acc:%.3f acc_all:%.3f'%(i, epoch, loss, self.acc, self.acc_all))\n",
        "model = MyModel()"
      ],
      "execution_count": 0,
      "outputs": []
    },
    {
      "cell_type": "code",
      "metadata": {
        "id": "hExFpO6F2hmG",
        "colab_type": "code",
        "outputId": "a14bf23d-b171-4ea5-8aef-78e7f459545d",
        "colab": {
          "base_uri": "https://localhost:8080/",
          "height": 924
        }
      },
      "source": [
        "model.fit(x_test_set, y_test_set, epoch=500) #학습 "
      ],
      "execution_count": 37,
      "outputs": [
        {
          "output_type": "stream",
          "text": [
            "0/500 loss:0.215 acc:0.400 acc_all:0.129\n",
            "10/500 loss:0.215 acc:0.401 acc_all:0.130\n",
            "20/500 loss:0.215 acc:0.401 acc_all:0.130\n",
            "30/500 loss:0.215 acc:0.402 acc_all:0.130\n",
            "40/500 loss:0.215 acc:0.403 acc_all:0.133\n",
            "50/500 loss:0.215 acc:0.403 acc_all:0.133\n",
            "60/500 loss:0.215 acc:0.403 acc_all:0.133\n",
            "70/500 loss:0.215 acc:0.403 acc_all:0.133\n",
            "80/500 loss:0.214 acc:0.405 acc_all:0.136\n",
            "90/500 loss:0.214 acc:0.406 acc_all:0.136\n",
            "100/500 loss:0.214 acc:0.406 acc_all:0.136\n",
            "110/500 loss:0.214 acc:0.406 acc_all:0.136\n",
            "120/500 loss:0.214 acc:0.407 acc_all:0.136\n",
            "130/500 loss:0.214 acc:0.407 acc_all:0.136\n",
            "140/500 loss:0.214 acc:0.409 acc_all:0.136\n",
            "150/500 loss:0.214 acc:0.408 acc_all:0.135\n",
            "160/500 loss:0.214 acc:0.409 acc_all:0.135\n",
            "170/500 loss:0.214 acc:0.409 acc_all:0.135\n",
            "180/500 loss:0.214 acc:0.410 acc_all:0.135\n",
            "190/500 loss:0.214 acc:0.410 acc_all:0.135\n",
            "200/500 loss:0.213 acc:0.411 acc_all:0.136\n",
            "210/500 loss:0.213 acc:0.411 acc_all:0.136\n",
            "220/500 loss:0.213 acc:0.412 acc_all:0.137\n",
            "230/500 loss:0.213 acc:0.414 acc_all:0.138\n",
            "240/500 loss:0.213 acc:0.413 acc_all:0.138\n",
            "250/500 loss:0.213 acc:0.411 acc_all:0.138\n",
            "260/500 loss:0.213 acc:0.411 acc_all:0.138\n",
            "270/500 loss:0.213 acc:0.411 acc_all:0.138\n",
            "280/500 loss:0.213 acc:0.412 acc_all:0.138\n",
            "290/500 loss:0.213 acc:0.412 acc_all:0.137\n",
            "300/500 loss:0.213 acc:0.412 acc_all:0.137\n",
            "310/500 loss:0.213 acc:0.412 acc_all:0.137\n",
            "320/500 loss:0.212 acc:0.413 acc_all:0.138\n",
            "330/500 loss:0.212 acc:0.413 acc_all:0.138\n",
            "340/500 loss:0.212 acc:0.413 acc_all:0.138\n",
            "350/500 loss:0.212 acc:0.413 acc_all:0.138\n",
            "360/500 loss:0.212 acc:0.414 acc_all:0.138\n",
            "370/500 loss:0.212 acc:0.414 acc_all:0.138\n",
            "380/500 loss:0.212 acc:0.415 acc_all:0.140\n",
            "390/500 loss:0.212 acc:0.415 acc_all:0.140\n",
            "400/500 loss:0.212 acc:0.415 acc_all:0.140\n",
            "410/500 loss:0.212 acc:0.415 acc_all:0.140\n",
            "420/500 loss:0.212 acc:0.416 acc_all:0.140\n",
            "430/500 loss:0.212 acc:0.416 acc_all:0.143\n",
            "440/500 loss:0.212 acc:0.417 acc_all:0.143\n",
            "450/500 loss:0.212 acc:0.418 acc_all:0.145\n",
            "460/500 loss:0.211 acc:0.418 acc_all:0.144\n",
            "470/500 loss:0.211 acc:0.418 acc_all:0.145\n",
            "480/500 loss:0.211 acc:0.418 acc_all:0.145\n",
            "490/500 loss:0.211 acc:0.419 acc_all:0.145\n"
          ],
          "name": "stdout"
        }
      ]
    },
    {
      "cell_type": "code",
      "metadata": {
        "id": "H_FA2_i0GLLh",
        "colab_type": "code",
        "outputId": "665adebe-511d-4c38-dfb0-fd2a02f3ab13",
        "colab": {
          "base_uri": "https://localhost:8080/",
          "height": 35
        }
      },
      "source": [
        "# 테스트셋의 성능\n",
        "h = model(x_test_set)\n",
        "model.get_accuracy(y_test_set, h)\n",
        "print('개별정확도',model.acc.numpy(),'두자리 모두 맞춘 정확도', model.acc_all.numpy())"
      ],
      "execution_count": 38,
      "outputs": [
        {
          "output_type": "stream",
          "text": [
            "개별정확도 0.41926503 두자리 모두 맞춘 정확도 0.14476615\n"
          ],
          "name": "stdout"
        }
      ]
    },
    {
      "cell_type": "code",
      "metadata": {
        "id": "xFdhla3f4f0I",
        "colab_type": "code",
        "colab": {}
      },
      "source": [
        ""
      ],
      "execution_count": 0,
      "outputs": []
    }
  ]
}