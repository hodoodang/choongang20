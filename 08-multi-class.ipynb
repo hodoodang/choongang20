{
 "cells": [
  {
   "cell_type": "markdown",
   "metadata": {},
   "source": [
    "## multi-class 클래스가 2개보다 많을때\n",
    "클래스 2개 초과 될때 \n",
    "- 2진 분류(클래스 2개일때) 에서는 타겟(찾고 싶은 y)만 찾으려고 했다.\n",
    "- x feed, model(x) = x의 클래스가 1일 확률, x가 클래스 0일 확률 = 1 - p(x,y=1)\n",
    "- 클래스 갯수 k=3 개다. \n",
    "- model(x) = x가 클래스 0일 확률, x가 클래스 1일 확률, x가 클래스 2일 확률"
   ]
  },
  {
   "cell_type": "code",
   "execution_count": 2,
   "metadata": {
    "collapsed": true
   },
   "outputs": [],
   "source": [
    "import numpy as np"
   ]
  },
  {
   "cell_type": "code",
   "execution_count": 3,
   "metadata": {
    "collapsed": true
   },
   "outputs": [],
   "source": [
    "def sigmoid(x):\n",
    "    return 1 / (1 + np.exp(-x))"
   ]
  },
  {
   "cell_type": "code",
   "execution_count": 7,
   "metadata": {},
   "outputs": [
    {
     "data": {
      "text/plain": [
       "(1.0, 2.7182818284590451, 7.3890560989306504, 20.085536923187668)"
      ]
     },
     "execution_count": 7,
     "metadata": {},
     "output_type": "execute_result"
    }
   ],
   "source": [
    "np.exp(0), np.exp(1), np.exp(2), np.exp(3) # exponencial 지수 함수"
   ]
  },
  {
   "cell_type": "code",
   "execution_count": 8,
   "metadata": {},
   "outputs": [
    {
     "data": {
      "text/plain": [
       "(0.36787944117144233, 0.1353352832366127, 0.049787068367863944)"
      ]
     },
     "execution_count": 8,
     "metadata": {},
     "output_type": "execute_result"
    }
   ],
   "source": [
    "np.exp(-1), np.exp(-2), np.exp(-3)"
   ]
  },
  {
   "cell_type": "code",
   "execution_count": 13,
   "metadata": {
    "scrolled": true
   },
   "outputs": [
    {
     "data": {
      "text/plain": [
       "array([ 0.000045,  0.999955])"
      ]
     },
     "execution_count": 13,
     "metadata": {},
     "output_type": "execute_result"
    }
   ],
   "source": [
    "np.set_printoptions(6, suppress=True)\n",
    "y = [0, 1]\n",
    "h = np.array([-10, 10])\n",
    "#h = WX + b\n",
    "# y = sigmoid(h)\n",
    "sigmoid(h)"
   ]
  },
  {
   "cell_type": "code",
   "execution_count": 15,
   "metadata": {},
   "outputs": [
    {
     "data": {
      "text/plain": [
       "array([[ 0.645161,  0.322581,  0.032258]])"
      ]
     },
     "execution_count": 15,
     "metadata": {},
     "output_type": "execute_result"
    }
   ],
   "source": [
    "# 클래스 3개가 존재할때 한 샘플에 대해서 다음과 같은 예측이 나왔습니다\n",
    "h = np.array([[2.0, 1.0, 0.1]]) # 한 샘플에 대한 예측값, 확률로 바꾸자\n",
    "norm = h/np.sum(h)\n",
    "norm"
   ]
  },
  {
   "cell_type": "code",
   "execution_count": 18,
   "metadata": {},
   "outputs": [
    {
     "data": {
      "text/plain": [
       "(array([[ 2. ,  1. ,  0.1]]), array([[ 7.389056,  2.718282,  1.105171]]))"
      ]
     },
     "execution_count": 18,
     "metadata": {},
     "output_type": "execute_result"
    }
   ],
   "source": [
    "h_e = np.exp(h)\n",
    "h, h_e"
   ]
  },
  {
   "cell_type": "code",
   "execution_count": 20,
   "metadata": {},
   "outputs": [
    {
     "data": {
      "text/plain": [
       "array([[ 0.659001,  0.242433,  0.098566]])"
      ]
     },
     "execution_count": 20,
     "metadata": {},
     "output_type": "execute_result"
    }
   ],
   "source": [
    "softmax = h_e/np.sum(h_e)\n",
    "softmax"
   ]
  },
  {
   "cell_type": "code",
   "execution_count": null,
   "metadata": {
    "collapsed": true
   },
   "outputs": [],
   "source": [
    "y = [0, 1, 2]\n",
    "y_hot = [[1,0,0], [0,1,0], [0,0,1]] # one-hot 인코딩 \n",
    "h     = [[0.999, 0.0001, 0], [0, 0.99, 0], [0.001, 0.1, 0.88]] # 정확한 예측이 나왔다"
   ]
  },
  {
   "cell_type": "markdown",
   "metadata": {},
   "source": [
    "붓꽃 데이터 전부를 학습시켜 봅시다"
   ]
  },
  {
   "cell_type": "code",
   "execution_count": 49,
   "metadata": {
    "collapsed": true
   },
   "outputs": [],
   "source": [
    "from sklearn.datasets import load_iris\n",
    "from sklearn.neural_network import MLPClassifier\n",
    "from sklearn.linear_model import LogisticRegression"
   ]
  },
  {
   "cell_type": "code",
   "execution_count": 50,
   "metadata": {},
   "outputs": [
    {
     "data": {
      "text/plain": [
       "((150, 4), (150,), {0, 1, 2})"
      ]
     },
     "execution_count": 50,
     "metadata": {},
     "output_type": "execute_result"
    }
   ],
   "source": [
    "x, y = load_iris(True)\n",
    "x.shape, y.shape, set(y)"
   ]
  },
  {
   "cell_type": "code",
   "execution_count": 57,
   "metadata": {
    "collapsed": true
   },
   "outputs": [],
   "source": [
    "x_norm = (x - np.min(x, 0))/(np.max(x, 0)-np.min(x, 0))"
   ]
  },
  {
   "cell_type": "code",
   "execution_count": 82,
   "metadata": {},
   "outputs": [
    {
     "data": {
      "text/plain": [
       "0.91333333333333333"
      ]
     },
     "execution_count": 82,
     "metadata": {},
     "output_type": "execute_result"
    }
   ],
   "source": [
    "model = LogisticRegression(max_iter=3000).fit(x, y) # underfitting 과소적합\n",
    "model.score(x_norm, y)# accuracy |"
   ]
  },
  {
   "cell_type": "code",
   "execution_count": 83,
   "metadata": {},
   "outputs": [
    {
     "data": {
      "text/plain": [
       "(array([[ 0.414988,  1.461297, -2.262141, -1.029095],\n",
       "        [ 0.41664 , -1.600833,  0.577658, -1.385538],\n",
       "        [-1.707525, -1.534268,  2.470972,  2.555382]]),\n",
       " array([ 0.265606,  1.085424, -1.214715]))"
      ]
     },
     "execution_count": 83,
     "metadata": {},
     "output_type": "execute_result"
    }
   ],
   "source": [
    "model.coef_, model.intercept_"
   ]
  },
  {
   "cell_type": "code",
   "execution_count": 84,
   "metadata": {},
   "outputs": [
    {
     "data": {
      "text/plain": [
       "(array([ 5.1,  3.5,  1.4,  0.2]), 0)"
      ]
     },
     "execution_count": 84,
     "metadata": {},
     "output_type": "execute_result"
    }
   ],
   "source": [
    "#첫번째 샘플로 테스트해봅시다\n",
    "x0 = x[0]\n",
    "y0 = y[0]\n",
    "x0, y0 "
   ]
  },
  {
   "cell_type": "code",
   "execution_count": 86,
   "metadata": {},
   "outputs": [
    {
     "data": {
      "text/plain": [
       "array([  4.123771,  -1.861017, -11.322595])"
      ]
     },
     "execution_count": 86,
     "metadata": {},
     "output_type": "execute_result"
    }
   ],
   "source": [
    "# y = softmax(WX + b)\n",
    "h = np.sum(model.coef_ * x0, axis=1) + model.intercept_\n",
    "h # 점수"
   ]
  },
  {
   "cell_type": "code",
   "execution_count": 89,
   "metadata": {},
   "outputs": [
    {
     "data": {
      "text/plain": [
       "(array([ 61.79181 ,   0.155514,   0.000012]),\n",
       " array([ 0.997489,  0.00251 ,  0.      ]))"
      ]
     },
     "execution_count": 89,
     "metadata": {},
     "output_type": "execute_result"
    }
   ],
   "source": [
    "#보기 불편하니까 확률로 바꿔보자\n",
    "h_e = np.exp(h)\n",
    "p = h_e / np.sum(h_e)\n",
    "h_e, p"
   ]
  },
  {
   "cell_type": "code",
   "execution_count": 104,
   "metadata": {},
   "outputs": [
    {
     "data": {
      "text/plain": [
       "((1797, 64), (1797,), 1797)"
      ]
     },
     "execution_count": 104,
     "metadata": {},
     "output_type": "execute_result"
    }
   ],
   "source": [
    "from sklearn.datasets import load_digits\n",
    "x, y = load_digits(return_X_y=True)\n",
    "x.shape, y.shape, len(x)"
   ]
  },
  {
   "cell_type": "code",
   "execution_count": 133,
   "metadata": {
    "collapsed": true
   },
   "outputs": [],
   "source": [
    "m = len(x)//2\n",
    "x_train = x[:m]\n",
    "y_train = y[:m]\n",
    "x_test = x[m:]\n",
    "y_test = y[m:]"
   ]
  },
  {
   "cell_type": "markdown",
   "metadata": {
    "collapsed": true
   },
   "source": [
    "학습용:테스트용 50:50 나눠서 학습용으로만 학습, 테스트셋 성능을 측정해보세요\n",
    "성능이 95%이상 되도록 레이어를 디자인하세요"
   ]
  },
  {
   "cell_type": "code",
   "execution_count": 136,
   "metadata": {},
   "outputs": [
    {
     "data": {
      "text/plain": [
       "(1.0, 0.93548387096774188)"
      ]
     },
     "execution_count": 136,
     "metadata": {},
     "output_type": "execute_result"
    }
   ],
   "source": [
    "# 히든 레이어를 디자인할 수 있습니다\n",
    "model = MLPClassifier(hidden_layer_sizes=(128,128,128),max_iter=3000).fit(x_train, y_train)\n",
    "model.score(x_train, y_train), model.score(x_test, y_test)"
   ]
  },
  {
   "cell_type": "code",
   "execution_count": 101,
   "metadata": {},
   "outputs": [
    {
     "data": {
      "text/plain": [
       "<matplotlib.image.AxesImage at 0x1693dc52048>"
      ]
     },
     "execution_count": 101,
     "metadata": {},
     "output_type": "execute_result"
    },
    {
     "data": {
      "image/png": "[encoded data removed]",
      "text/plain": [
       "<matplotlib.figure.Figure at 0x1693da50b00>"
      ]
     },
     "metadata": {},
     "output_type": "display_data"
    }
   ],
   "source": [
    "import matplotlib.pyplot as plt\n",
    "%matplotlib inline\n",
    "plt.imshow(x[0].reshape((8,8)), cmap='gray')"
   ]
  },
  {
   "cell_type": "code",
   "execution_count": 143,
   "metadata": {},
   "outputs": [
    {
     "data": {
      "text/plain": [
       "((8, 8), (8, 8), (8, 16))"
      ]
     },
     "execution_count": 143,
     "metadata": {},
     "output_type": "execute_result"
    }
   ],
   "source": [
    "x0 = x[0].reshape((8,8))\n",
    "x1 = x[1].reshape((8,8))\n",
    "x2 = np.concatenate((x0, x1), axis=1)\n",
    "x0.shape, x1.shape, x2.shape"
   ]
  },
  {
   "cell_type": "code",
   "execution_count": 142,
   "metadata": {},
   "outputs": [
    {
     "data": {
      "text/plain": [
       "<matplotlib.image.AxesImage at 0x1693f677898>"
      ]
     },
     "execution_count": 142,
     "metadata": {},
     "output_type": "execute_result"
    },
    {
     "data": {
      "image/png": "[encoded data removed]",
      "text/plain": [
       "<matplotlib.figure.Figure at 0x1693dc8ccf8>"
      ]
     },
     "metadata": {},
     "output_type": "display_data"
    }
   ],
   "source": [
    "plt.imshow(x2, cmap='gray')"
   ]
  },
  {
   "cell_type": "code",
   "execution_count": 176,
   "metadata": {},
   "outputs": [],
   "source": [
    "from sklearn.datasets import load_digits\n",
    "x, y = load_digits(return_X_y=True)\n",
    "#데이터 2개 합성\n",
    "x0 = np.concatenate((x[0].reshape((8,8)), x[1].reshape((8,8))), axis=1)\n",
    "x1 = np.concatenate((x[2].reshape((8,8)), x[3].reshape((8,8))), axis=1)\n",
    "y0 = y[:2]\n",
    "y1 = y[2:4]"
   ]
  },
  {
   "cell_type": "code",
   "execution_count": 163,
   "metadata": {},
   "outputs": [
    {
     "data": {
      "text/plain": [
       "((2, 128), (2, 2))"
      ]
     },
     "execution_count": 163,
     "metadata": {},
     "output_type": "execute_result"
    }
   ],
   "source": [
    "#데이터 묶기\n",
    "x0 = np.reshape(x0, [-1])\n",
    "x1 = np.reshape(x1, [-1])\n",
    "x_train = np.stack((x0, x1),0)\n",
    "y_train = np.stack((y0, y1),0)\n",
    "x_train.shape, y_train.shape"
   ]
  },
  {
   "cell_type": "code",
   "execution_count": null,
   "metadata": {
    "collapsed": true
   },
   "outputs": [],
   "source": [
    "from sklearn.neural_network import MLPClassifier\n",
    "from sklearn.multioutput import MultiOutputClassifier\n",
    "model = MultiOutputClassifier(MLPClassifier()).fit(x_train, y_train)\n",
    "model.predict(x_train), model.score(x_train, y_train)"
   ]
  },
  {
   "cell_type": "code",
   "execution_count": 192,
   "metadata": {},
   "outputs": [
    {
     "data": {
      "text/plain": [
       "<matplotlib.image.AxesImage at 0x1694148d588>"
      ]
     },
     "execution_count": 192,
     "metadata": {},
     "output_type": "execute_result"
    },
    {
     "data": {
      "image/png": "[encoded data removed]",
      "text/plain": [
       "<matplotlib.figure.Figure at 0x1694141fcf8>"
      ]
     },
     "metadata": {},
     "output_type": "display_data"
    }
   ],
   "source": [
    "plt.title('Y '+ str(y_train))\n",
    "plt.imshow(x_train.reshape((-1,16)))"
   ]
  },
  {
   "cell_type": "code",
   "execution_count": 211,
   "metadata": {},
   "outputs": [
    {
     "data": {
      "text/plain": [
       "((898, 64), (898,))"
      ]
     },
     "execution_count": 211,
     "metadata": {},
     "output_type": "execute_result"
    }
   ],
   "source": [
    "x, y = load_digits(return_X_y=True)\n",
    "m = len(y)//2\n",
    "x_train = x[:m]\n",
    "y_train = y[:m]\n",
    "x_test = x[m:m*2]\n",
    "y_test = y[m:m*2]\n",
    "x_train.shape, y_train.shape"
   ]
  },
  {
   "cell_type": "code",
   "execution_count": 215,
   "metadata": {},
   "outputs": [
    {
     "data": {
      "text/plain": [
       "((449, 128), (449, 2))"
      ]
     },
     "execution_count": 215,
     "metadata": {},
     "output_type": "execute_result"
    }
   ],
   "source": [
    "# for 으로 데이터 만들기\n",
    "x_list = []\n",
    "y_list = []\n",
    "for i in range(len(y_train)//2):\n",
    "    xx = np.stack((x_train[i*2], x_train[i*2+1]),0)\n",
    "    yy = np.stack((y_train[i*2], y_train[i*2+1]),0)\n",
    "    x_list.append(xx.reshape([-1]))\n",
    "    y_list.append(yy.reshape([-1]))\n",
    "x_train = np.stack(x_list, 0)\n",
    "y_train = np.stack(y_list, 0)\n",
    "x_train.shape, y_train.shape"
   ]
  },
  {
   "cell_type": "code",
   "execution_count": null,
   "metadata": {
    "collapsed": true
   },
   "outputs": [],
   "source": [
    "x_train = np.reshape(x_train, [m//2, -1])\n",
    "y_train = np.reshape(y_train, [m//2, 2])\n",
    "x_test = np.reshape(x_test, [m//2, -1])\n",
    "y_test = np.reshape(y_test, [m//2, 2])\n",
    "x_train.shape, y_train.shape, x_test.shape, y_test.shape"
   ]
  },
  {
   "cell_type": "code",
   "execution_count": 209,
   "metadata": {},
   "outputs": [
    {
     "data": {
      "text/plain": [
       "(1.0, 0.68374164810690419)"
      ]
     },
     "execution_count": 209,
     "metadata": {},
     "output_type": "execute_result"
    }
   ],
   "source": [
    "mlp = MLPClassifier(hidden_layer_sizes=(1000,100), max_iter=1000)\n",
    "model = MultiOutputClassifier(mlp).fit(x_train, y_train)\n",
    "model.score(x_train, y_train), model.score(x_test, y_test)"
   ]
  },
  {
   "cell_type": "code",
   "execution_count": 210,
   "metadata": {},
   "outputs": [
    {
     "data": {
      "text/plain": [
       "array([[8, 8],\n",
       "       [4, 9],\n",
       "       [0, 8],\n",
       "       [9, 8],\n",
       "       [1, 2],\n",
       "       [3, 4],\n",
       "       [5, 6],\n",
       "       [7, 8],\n",
       "       [9, 0],\n",
       "       [1, 2],\n",
       "       [3, 4],\n",
       "       [5, 6],\n",
       "       [7, 8],\n",
       "       [9, 0],\n",
       "       [1, 2],\n",
       "       [3, 4],\n",
       "       [5, 6],\n",
       "       [7, 8],\n",
       "       [9, 0],\n",
       "       [9, 5],\n",
       "       [5, 6],\n",
       "       [5, 0],\n",
       "       [9, 8],\n",
       "       [9, 8],\n",
       "       [4, 1],\n",
       "       [7, 7],\n",
       "       [3, 5],\n",
       "       [1, 2],\n",
       "       [7, 8],\n",
       "       [2, 0],\n",
       "       [1, 2],\n",
       "       [6, 3],\n",
       "       [3, 7],\n",
       "       [3, 3],\n",
       "       [4, 6],\n",
       "       [6, 6],\n",
       "       [4, 9],\n",
       "       [1, 5],\n",
       "       [0, 9],\n",
       "       [5, 2],\n",
       "       [8, 2],\n",
       "       [0, 0],\n",
       "       [1, 7],\n",
       "       [6, 3],\n",
       "       [2, 1],\n",
       "       [4, 6],\n",
       "       [3, 1],\n",
       "       [3, 9],\n",
       "       [1, 7],\n",
       "       [6, 8],\n",
       "       [4, 3],\n",
       "       [1, 4],\n",
       "       [0, 5],\n",
       "       [3, 6],\n",
       "       [9, 6],\n",
       "       [1, 7],\n",
       "       [5, 4],\n",
       "       [4, 7],\n",
       "       [2, 8],\n",
       "       [2, 2],\n",
       "       [5, 7],\n",
       "       [9, 5],\n",
       "       [4, 4],\n",
       "       [9, 0],\n",
       "       [8, 9],\n",
       "       [8, 0],\n",
       "       [1, 2],\n",
       "       [3, 4],\n",
       "       [5, 6],\n",
       "       [7, 8],\n",
       "       [9, 0],\n",
       "       [1, 2],\n",
       "       [3, 4],\n",
       "       [5, 6],\n",
       "       [7, 8],\n",
       "       [9, 0],\n",
       "       [1, 2],\n",
       "       [3, 4],\n",
       "       [5, 6],\n",
       "       [7, 8],\n",
       "       [9, 0],\n",
       "       [9, 5],\n",
       "       [5, 6],\n",
       "       [5, 0],\n",
       "       [9, 8],\n",
       "       [9, 8],\n",
       "       [4, 1],\n",
       "       [7, 7],\n",
       "       [3, 5],\n",
       "       [1, 0],\n",
       "       [0, 7],\n",
       "       [8, 2],\n",
       "       [0, 1],\n",
       "       [2, 6],\n",
       "       [3, 3],\n",
       "       [7, 3],\n",
       "       [3, 4],\n",
       "       [6, 6],\n",
       "       [6, 4],\n",
       "       [9, 1],\n",
       "       [5, 0],\n",
       "       [9, 5],\n",
       "       [2, 8],\n",
       "       [2, 0],\n",
       "       [0, 1],\n",
       "       [7, 6],\n",
       "       [3, 2],\n",
       "       [1, 7],\n",
       "       [4, 6],\n",
       "       [3, 1],\n",
       "       [3, 9],\n",
       "       [1, 7],\n",
       "       [6, 8],\n",
       "       [4, 3],\n",
       "       [1, 4],\n",
       "       [0, 5],\n",
       "       [3, 6],\n",
       "       [9, 6],\n",
       "       [1, 7],\n",
       "       [5, 4],\n",
       "       [4, 7],\n",
       "       [2, 8],\n",
       "       [2, 2],\n",
       "       [5, 7],\n",
       "       [9, 5],\n",
       "       [4, 8],\n",
       "       [8, 4],\n",
       "       [9, 0],\n",
       "       [8, 9],\n",
       "       [8, 0],\n",
       "       [1, 2],\n",
       "       [3, 4],\n",
       "       [5, 6],\n",
       "       [7, 8],\n",
       "       [9, 0],\n",
       "       [1, 2],\n",
       "       [3, 4],\n",
       "       [5, 6],\n",
       "       [7, 8],\n",
       "       [9, 0],\n",
       "       [1, 2],\n",
       "       [3, 4],\n",
       "       [5, 6],\n",
       "       [7, 8],\n",
       "       [9, 0],\n",
       "       [9, 5],\n",
       "       [5, 6],\n",
       "       [5, 0],\n",
       "       [9, 8],\n",
       "       [9, 8],\n",
       "       [4, 1],\n",
       "       [7, 7],\n",
       "       [3, 5],\n",
       "       [1, 0],\n",
       "       [0, 2],\n",
       "       [2, 7],\n",
       "       [8, 2],\n",
       "       [0, 1],\n",
       "       [2, 6],\n",
       "       [3, 3],\n",
       "       [7, 3],\n",
       "       [3, 4],\n",
       "       [6, 6],\n",
       "       [6, 4],\n",
       "       [9, 1],\n",
       "       [5, 0],\n",
       "       [9, 5],\n",
       "       [2, 8],\n",
       "       [2, 0],\n",
       "       [0, 1],\n",
       "       [7, 6],\n",
       "       [3, 2],\n",
       "       [1, 7],\n",
       "       [4, 6],\n",
       "       [3, 1],\n",
       "       [3, 9],\n",
       "       [1, 7],\n",
       "       [6, 8],\n",
       "       [4, 3],\n",
       "       [1, 4],\n",
       "       [0, 5],\n",
       "       [3, 6],\n",
       "       [9, 6],\n",
       "       [1, 7],\n",
       "       [5, 4],\n",
       "       [4, 7],\n",
       "       [2, 8],\n",
       "       [2, 2],\n",
       "       [5, 7],\n",
       "       [9, 5],\n",
       "       [4, 8],\n",
       "       [8, 4],\n",
       "       [9, 0],\n",
       "       [8, 9],\n",
       "       [8, 0],\n",
       "       [1, 2],\n",
       "       [3, 4],\n",
       "       [5, 6],\n",
       "       [7, 8],\n",
       "       [9, 0],\n",
       "       [1, 2],\n",
       "       [3, 4],\n",
       "       [5, 6],\n",
       "       [7, 8],\n",
       "       [9, 0],\n",
       "       [1, 2],\n",
       "       [3, 4],\n",
       "       [5, 6],\n",
       "       [7, 8],\n",
       "       [9, 0],\n",
       "       [9, 5],\n",
       "       [5, 6],\n",
       "       [5, 0],\n",
       "       [9, 8],\n",
       "       [9, 8],\n",
       "       [4, 1],\n",
       "       [7, 7],\n",
       "       [3, 5],\n",
       "       [1, 0],\n",
       "       [0, 2],\n",
       "       [2, 7],\n",
       "       [8, 2],\n",
       "       [0, 1],\n",
       "       [2, 6],\n",
       "       [3, 3],\n",
       "       [7, 3],\n",
       "       [3, 4],\n",
       "       [6, 6],\n",
       "       [6, 4],\n",
       "       [9, 1],\n",
       "       [5, 0],\n",
       "       [9, 5],\n",
       "       [2, 8],\n",
       "       [2, 0],\n",
       "       [0, 1],\n",
       "       [7, 6],\n",
       "       [3, 2],\n",
       "       [1, 7],\n",
       "       [4, 6],\n",
       "       [3, 1],\n",
       "       [3, 9],\n",
       "       [1, 7],\n",
       "       [6, 8],\n",
       "       [4, 3],\n",
       "       [1, 4],\n",
       "       [0, 5],\n",
       "       [3, 6],\n",
       "       [9, 6],\n",
       "       [1, 7],\n",
       "       [5, 4],\n",
       "       [4, 7],\n",
       "       [2, 8],\n",
       "       [2, 2],\n",
       "       [5, 7],\n",
       "       [9, 5],\n",
       "       [4, 8],\n",
       "       [8, 4],\n",
       "       [9, 0],\n",
       "       [8, 0],\n",
       "       [1, 2],\n",
       "       [3, 4],\n",
       "       [5, 6],\n",
       "       [7, 8],\n",
       "       [9, 0],\n",
       "       [1, 2],\n",
       "       [3, 4],\n",
       "       [5, 6],\n",
       "       [7, 8],\n",
       "       [9, 0],\n",
       "       [1, 2],\n",
       "       [3, 4],\n",
       "       [5, 6],\n",
       "       [7, 8],\n",
       "       [9, 0],\n",
       "       [9, 5],\n",
       "       [5, 6],\n",
       "       [5, 0],\n",
       "       [9, 8],\n",
       "       [9, 8],\n",
       "       [4, 1],\n",
       "       [7, 7],\n",
       "       [3, 5],\n",
       "       [1, 0],\n",
       "       [0, 2],\n",
       "       [2, 7],\n",
       "       [8, 2],\n",
       "       [0, 1],\n",
       "       [2, 6],\n",
       "       [3, 3],\n",
       "       [7, 3],\n",
       "       [3, 4],\n",
       "       [6, 6],\n",
       "       [6, 4],\n",
       "       [9, 1],\n",
       "       [5, 0],\n",
       "       [9, 5],\n",
       "       [2, 8],\n",
       "       [2, 0],\n",
       "       [0, 1],\n",
       "       [7, 6],\n",
       "       [3, 2],\n",
       "       [1, 7],\n",
       "       [4, 6],\n",
       "       [3, 1],\n",
       "       [3, 9],\n",
       "       [1, 7],\n",
       "       [6, 8],\n",
       "       [4, 3],\n",
       "       [1, 4],\n",
       "       [0, 5],\n",
       "       [3, 6],\n",
       "       [9, 6],\n",
       "       [1, 7],\n",
       "       [5, 4],\n",
       "       [4, 7],\n",
       "       [2, 8],\n",
       "       [2, 2],\n",
       "       [5, 7],\n",
       "       [9, 5],\n",
       "       [4, 8],\n",
       "       [8, 4],\n",
       "       [9, 0],\n",
       "       [8, 9],\n",
       "       [8, 0],\n",
       "       [1, 2],\n",
       "       [3, 4],\n",
       "       [5, 6],\n",
       "       [7, 8],\n",
       "       [9, 0],\n",
       "       [1, 2],\n",
       "       [3, 4],\n",
       "       [5, 6],\n",
       "       [9, 0],\n",
       "       [1, 2],\n",
       "       [3, 4],\n",
       "       [5, 6],\n",
       "       [7, 8],\n",
       "       [9, 0],\n",
       "       [9, 5],\n",
       "       [5, 6],\n",
       "       [5, 0],\n",
       "       [9, 8],\n",
       "       [9, 8],\n",
       "       [4, 1],\n",
       "       [7, 7],\n",
       "       [3, 5],\n",
       "       [1, 0],\n",
       "       [0, 2],\n",
       "       [2, 7],\n",
       "       [8, 2],\n",
       "       [0, 1],\n",
       "       [2, 6],\n",
       "       [3, 3],\n",
       "       [7, 3],\n",
       "       [3, 4],\n",
       "       [6, 6],\n",
       "       [6, 4],\n",
       "       [9, 1],\n",
       "       [5, 0],\n",
       "       [9, 5],\n",
       "       [2, 8],\n",
       "       [0, 1],\n",
       "       [7, 6],\n",
       "       [3, 2],\n",
       "       [1, 7],\n",
       "       [4, 6],\n",
       "       [3, 1],\n",
       "       [3, 9],\n",
       "       [1, 7],\n",
       "       [6, 8],\n",
       "       [4, 3],\n",
       "       [1, 4],\n",
       "       [0, 5],\n",
       "       [3, 6],\n",
       "       [9, 6],\n",
       "       [1, 7],\n",
       "       [5, 4],\n",
       "       [4, 7],\n",
       "       [2, 2],\n",
       "       [5, 7],\n",
       "       [9, 5],\n",
       "       [4, 4],\n",
       "       [9, 0],\n",
       "       [8, 9],\n",
       "       [8, 0],\n",
       "       [1, 2],\n",
       "       [3, 4],\n",
       "       [5, 6],\n",
       "       [7, 8],\n",
       "       [9, 0],\n",
       "       [1, 2],\n",
       "       [3, 4],\n",
       "       [5, 6],\n",
       "       [7, 8],\n",
       "       [9, 0],\n",
       "       [1, 2],\n",
       "       [3, 4],\n",
       "       [5, 6],\n",
       "       [7, 8],\n",
       "       [9, 0],\n",
       "       [9, 5],\n",
       "       [5, 6],\n",
       "       [5, 0],\n",
       "       [9, 8],\n",
       "       [9, 8],\n",
       "       [4, 1],\n",
       "       [7, 7],\n",
       "       [3, 5],\n",
       "       [1, 0],\n",
       "       [0, 2],\n",
       "       [2, 7],\n",
       "       [8, 2],\n",
       "       [0, 1],\n",
       "       [2, 6],\n",
       "       [3, 3],\n",
       "       [7, 3],\n",
       "       [3, 4],\n",
       "       [6, 6],\n",
       "       [6, 4],\n",
       "       [9, 1],\n",
       "       [5, 0],\n",
       "       [9, 5],\n",
       "       [2, 8],\n",
       "       [2, 0],\n",
       "       [0, 1],\n",
       "       [7, 6],\n",
       "       [3, 2],\n",
       "       [1, 7],\n",
       "       [4, 6],\n",
       "       [3, 1],\n",
       "       [3, 9],\n",
       "       [1, 7],\n",
       "       [6, 8],\n",
       "       [4, 3],\n",
       "       [1, 4],\n",
       "       [0, 5],\n",
       "       [3, 6],\n",
       "       [9, 6],\n",
       "       [1, 7],\n",
       "       [5, 4],\n",
       "       [4, 7],\n",
       "       [2, 8],\n",
       "       [2, 2],\n",
       "       [5, 7],\n",
       "       [9, 5],\n",
       "       [4, 8],\n",
       "       [8, 4],\n",
       "       [9, 0],\n",
       "       [8, 9]])"
      ]
     },
     "execution_count": 210,
     "metadata": {},
     "output_type": "execute_result"
    }
   ],
   "source": [
    "y_test"
   ]
  }
 ],
 "metadata": {
  "kernelspec": {
   "display_name": "Python 3",
   "language": "python",
   "name": "python3"
  },
  "language_info": {
   "codemirror_mode": {
    "name": "ipython",
    "version": 3
   },
   "file_extension": ".py",
   "mimetype": "text/x-python",
   "name": "python",
   "nbconvert_exporter": "python",
   "pygments_lexer": "ipython3",
   "version": "3.6.3"
  }
 },
 "nbformat": 4,
 "nbformat_minor": 2
}
