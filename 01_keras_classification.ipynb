{
  "nbformat": 4,
  "nbformat_minor": 0,
  "metadata": {
    "colab": {
      "name": "01_keras_classification.ipynb",
      "provenance": [],
      "authorship_tag": "ABX9TyMxPPsIrGLME2DaRV+lNwDl",
      "include_colab_link": true
    },
    "kernelspec": {
      "name": "python3",
      "display_name": "Python 3"
    }
  },
  "cells": [
    {
      "cell_type": "markdown",
      "metadata": {
        "id": "view-in-github",
        "colab_type": "text"
      },
      "source": [
        "<a href=\"https://colab.research.google.com/github/sogangori/choongang20/blob/master/01_keras_classification.ipynb\" target=\"_parent\"><img src=\"https://colab.research.google.com/assets/colab-badge.svg\" alt=\"Open In Colab\"/></a>"
      ]
    },
    {
      "cell_type": "code",
      "metadata": {
        "id": "63tDz7QdQWoe",
        "colab_type": "code",
        "colab": {
          "base_uri": "https://localhost:8080/",
          "height": 34
        },
        "outputId": "bfdb760d-76a4-4c15-8635-aa4b807db681"
      },
      "source": [
        "%tensorflow_version 2.x\n",
        "import tensorflow as tf\n",
        "from sklearn.datasets import load_digits\n",
        "from tensorflow import keras"
      ],
      "execution_count": 12,
      "outputs": [
        {
          "output_type": "stream",
          "text": [
            "TensorFlow is already loaded. Please restart the runtime to change versions.\n"
          ],
          "name": "stdout"
        }
      ]
    },
    {
      "cell_type": "code",
      "metadata": {
        "id": "6nUFXyfjQgPV",
        "colab_type": "code",
        "colab": {
          "base_uri": "https://localhost:8080/",
          "height": 34
        },
        "outputId": "1bb3c837-81f3-48dc-f77a-73c6836858a9"
      },
      "source": [
        "tf.__version__, keras.__version__"
      ],
      "execution_count": 13,
      "outputs": [
        {
          "output_type": "execute_result",
          "data": {
            "text/plain": [
              "('1.15.0', '2.2.4-tf')"
            ]
          },
          "metadata": {
            "tags": []
          },
          "execution_count": 13
        }
      ]
    },
    {
      "cell_type": "code",
      "metadata": {
        "id": "7TgObjl4Qm9t",
        "colab_type": "code",
        "colab": {
          "base_uri": "https://localhost:8080/",
          "height": 34
        },
        "outputId": "ed2303f7-ff29-4c3f-b634-121294c34bc9"
      },
      "source": [
        "x, y = load_digits(return_X_y=True)\n",
        "x.shape"
      ],
      "execution_count": 4,
      "outputs": [
        {
          "output_type": "execute_result",
          "data": {
            "text/plain": [
              "(1797, 64)"
            ]
          },
          "metadata": {
            "tags": []
          },
          "execution_count": 4
        }
      ]
    },
    {
      "cell_type": "code",
      "metadata": {
        "id": "05mLJ6YwRBFV",
        "colab_type": "code",
        "colab": {}
      },
      "source": [
        "#mlp = MLPClassifier(hidden_layer_sizes=(1000,100), max_iter=1000)\n",
        "model = keras.Sequential()\n",
        "model.add(keras.layers.Dense(1000, activation=keras.layers.ReLU(), input_shape=(8*8,)))\n",
        "model.add(keras.layers.Dense(100, activation=keras.layers.ReLU()))\n",
        "model.add(keras.layers.Dense(10, activation=keras.layers.Softmax()))\n",
        "model.compile(loss=keras.losses.sparse_categorical_crossentropy, metrics=['accuracy'])\n",
        "#model.summary() "
      ],
      "execution_count": 0,
      "outputs": []
    },
    {
      "cell_type": "code",
      "metadata": {
        "id": "xmaaUOKtRJ26",
        "colab_type": "code",
        "colab": {
          "base_uri": "https://localhost:8080/",
          "height": 426
        },
        "outputId": "45200476-f425-4758-b366-aef6ef56aba3"
      },
      "source": [
        "model.fit(x, y, epochs=10, verbose=2)\n",
        "loss, metric = model.evaluate(x, y)\n",
        "loss, metric"
      ],
      "execution_count": 42,
      "outputs": [
        {
          "output_type": "stream",
          "text": [
            "Train on 1797 samples\n",
            "Epoch 1/10\n",
            "1797/1797 - 0s - loss: 0.7094 - acc: 0.7930\n",
            "Epoch 2/10\n",
            "1797/1797 - 0s - loss: 0.1639 - acc: 0.9482\n",
            "Epoch 3/10\n",
            "1797/1797 - 0s - loss: 0.0921 - acc: 0.9705\n",
            "Epoch 4/10\n",
            "1797/1797 - 0s - loss: 0.0857 - acc: 0.9733\n",
            "Epoch 5/10\n",
            "1797/1797 - 0s - loss: 0.0494 - acc: 0.9861\n",
            "Epoch 6/10\n",
            "1797/1797 - 0s - loss: 0.0464 - acc: 0.9839\n",
            "Epoch 7/10\n",
            "1797/1797 - 0s - loss: 0.0551 - acc: 0.9855\n",
            "Epoch 8/10\n",
            "1797/1797 - 0s - loss: 0.0349 - acc: 0.9905\n",
            "Epoch 9/10\n",
            "1797/1797 - 0s - loss: 0.0235 - acc: 0.9933\n",
            "Epoch 10/10\n",
            "1797/1797 - 0s - loss: 0.0251 - acc: 0.9917\n",
            "1797/1797 [==============================] - 0s 79us/sample - loss: 0.0020 - acc: 0.9994\n"
          ],
          "name": "stdout"
        },
        {
          "output_type": "execute_result",
          "data": {
            "text/plain": [
              "(0.002021324963516843, 0.99944353)"
            ]
          },
          "metadata": {
            "tags": []
          },
          "execution_count": 42
        }
      ]
    }
  ]
}