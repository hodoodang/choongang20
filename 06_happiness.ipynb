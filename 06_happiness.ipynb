{
 "cells": [
  {
   "cell_type": "markdown",
   "metadata": {},
   "source": [
    "행복 예측\n"
   ]
  },
  {
   "cell_type": "code",
   "execution_count": 1,
   "metadata": {
    "collapsed": true
   },
   "outputs": [],
   "source": [
    "import pandas as pd\n",
    "import numpy as np\n",
    "import matplotlib.pyplot as plt"
   ]
  },
  {
   "cell_type": "code",
   "execution_count": 14,
   "metadata": {},
   "outputs": [],
   "source": [
    "#df = pd.read_clipboard() # 데이터 드래그 + ctrl + C"
   ]
  },
  {
   "cell_type": "code",
   "execution_count": 16,
   "metadata": {},
   "outputs": [],
   "source": [
    "#/ 파일 다운 로드/ 엑셀\n",
    "df = pd.read_excel('../happiness.xlsx')"
   ]
  },
  {
   "cell_type": "code",
   "execution_count": 18,
   "metadata": {},
   "outputs": [
    {
     "data": {
      "text/html": [
       "<div>\n",
       "<style>\n",
       "    .dataframe thead tr:only-child th {\n",
       "        text-align: right;\n",
       "    }\n",
       "\n",
       "    .dataframe thead th {\n",
       "        text-align: left;\n",
       "    }\n",
       "\n",
       "    .dataframe tbody tr th {\n",
       "        vertical-align: top;\n",
       "    }\n",
       "</style>\n",
       "<table border=\"1\" class=\"dataframe\">\n",
       "  <thead>\n",
       "    <tr style=\"text-align: right;\">\n",
       "      <th></th>\n",
       "      <th>맑음지수</th>\n",
       "      <th>미세먼지정도</th>\n",
       "      <th>Youtube시청시간(h)</th>\n",
       "      <th>쉬는날?</th>\n",
       "      <th>작업진행잘됨?</th>\n",
       "      <th>맛있는식사</th>\n",
       "      <th>행복지수</th>\n",
       "    </tr>\n",
       "  </thead>\n",
       "  <tbody>\n",
       "    <tr>\n",
       "      <th>너굴맨이 처리함</th>\n",
       "      <td>99</td>\n",
       "      <td>50</td>\n",
       "      <td>4</td>\n",
       "      <td>1</td>\n",
       "      <td>50</td>\n",
       "      <td>80</td>\n",
       "      <td>88</td>\n",
       "    </tr>\n",
       "    <tr>\n",
       "      <th>OHmygodkimchi</th>\n",
       "      <td>80</td>\n",
       "      <td>80</td>\n",
       "      <td>2</td>\n",
       "      <td>0</td>\n",
       "      <td>50</td>\n",
       "      <td>100</td>\n",
       "      <td>63</td>\n",
       "    </tr>\n",
       "    <tr>\n",
       "      <th>OHmybackkimchi</th>\n",
       "      <td>90</td>\n",
       "      <td>50</td>\n",
       "      <td>1</td>\n",
       "      <td>1</td>\n",
       "      <td>70</td>\n",
       "      <td>30</td>\n",
       "      <td>70</td>\n",
       "    </tr>\n",
       "    <tr>\n",
       "      <th>OHmygodanan-a-ki</th>\n",
       "      <td>30</td>\n",
       "      <td>80</td>\n",
       "      <td>5</td>\n",
       "      <td>0</td>\n",
       "      <td>85</td>\n",
       "      <td>44</td>\n",
       "      <td>80</td>\n",
       "    </tr>\n",
       "    <tr>\n",
       "      <th>Park</th>\n",
       "      <td>30</td>\n",
       "      <td>30</td>\n",
       "      <td>1</td>\n",
       "      <td>0</td>\n",
       "      <td>95</td>\n",
       "      <td>100</td>\n",
       "      <td>90</td>\n",
       "    </tr>\n",
       "  </tbody>\n",
       "</table>\n",
       "</div>"
      ],
      "text/plain": [
       "                  맑음지수  미세먼지정도  Youtube시청시간(h)  쉬는날?   작업진행잘됨?  맛있는식사  행복지수\n",
       "너굴맨이 처리함            99      50               4      1       50     80    88\n",
       "OHmygodkimchi       80      80               2      0       50    100    63\n",
       "OHmybackkimchi      90      50               1      1       70     30    70\n",
       "OHmygodanan-a-ki    30      80               5      0       85     44    80\n",
       "Park                30      30               1      0       95    100    90"
      ]
     },
     "execution_count": 18,
     "metadata": {},
     "output_type": "execute_result"
    }
   ],
   "source": [
    "df.head()"
   ]
  },
  {
   "cell_type": "code",
   "execution_count": 26,
   "metadata": {},
   "outputs": [
    {
     "data": {
      "text/plain": [
       "0"
      ]
     },
     "execution_count": 26,
     "metadata": {},
     "output_type": "execute_result"
    }
   ],
   "source": [
    "#누락 갯수 \n",
    "df.isnull().sum().sum()"
   ]
  },
  {
   "cell_type": "code",
   "execution_count": 27,
   "metadata": {
    "scrolled": true
   },
   "outputs": [
    {
     "data": {
      "text/plain": [
       "0"
      ]
     },
     "execution_count": 27,
     "metadata": {},
     "output_type": "execute_result"
    }
   ],
   "source": [
    "#유효성 검사\n",
    "(df < 0).sum().sum()"
   ]
  },
  {
   "cell_type": "code",
   "execution_count": 33,
   "metadata": {},
   "outputs": [
    {
     "data": {
      "text/html": [
       "<div>\n",
       "<style>\n",
       "    .dataframe thead tr:only-child th {\n",
       "        text-align: right;\n",
       "    }\n",
       "\n",
       "    .dataframe thead th {\n",
       "        text-align: left;\n",
       "    }\n",
       "\n",
       "    .dataframe tbody tr th {\n",
       "        vertical-align: top;\n",
       "    }\n",
       "</style>\n",
       "<table border=\"1\" class=\"dataframe\">\n",
       "  <thead>\n",
       "    <tr style=\"text-align: right;\">\n",
       "      <th></th>\n",
       "      <th>맑음지수</th>\n",
       "      <th>미세먼지정도</th>\n",
       "      <th>Youtube시청시간(h)</th>\n",
       "      <th>쉬는날?</th>\n",
       "      <th>작업진행잘됨?</th>\n",
       "      <th>맛있는식사</th>\n",
       "      <th>행복지수</th>\n",
       "    </tr>\n",
       "  </thead>\n",
       "  <tbody>\n",
       "    <tr>\n",
       "      <th>맑음지수</th>\n",
       "      <td>1.000000</td>\n",
       "      <td>-0.016246</td>\n",
       "      <td>0.196877</td>\n",
       "      <td>0.054029</td>\n",
       "      <td>0.074477</td>\n",
       "      <td>0.503027</td>\n",
       "      <td>0.195411</td>\n",
       "    </tr>\n",
       "    <tr>\n",
       "      <th>미세먼지정도</th>\n",
       "      <td>-0.016246</td>\n",
       "      <td>1.000000</td>\n",
       "      <td>0.011971</td>\n",
       "      <td>-0.298306</td>\n",
       "      <td>-0.299184</td>\n",
       "      <td>-0.101656</td>\n",
       "      <td>-0.328178</td>\n",
       "    </tr>\n",
       "    <tr>\n",
       "      <th>Youtube시청시간(h)</th>\n",
       "      <td>0.196877</td>\n",
       "      <td>0.011971</td>\n",
       "      <td>1.000000</td>\n",
       "      <td>-0.356586</td>\n",
       "      <td>-0.248312</td>\n",
       "      <td>-0.043289</td>\n",
       "      <td>0.359052</td>\n",
       "    </tr>\n",
       "    <tr>\n",
       "      <th>쉬는날?</th>\n",
       "      <td>0.054029</td>\n",
       "      <td>-0.298306</td>\n",
       "      <td>-0.356586</td>\n",
       "      <td>1.000000</td>\n",
       "      <td>0.318821</td>\n",
       "      <td>0.040042</td>\n",
       "      <td>0.364067</td>\n",
       "    </tr>\n",
       "    <tr>\n",
       "      <th>작업진행잘됨?</th>\n",
       "      <td>0.074477</td>\n",
       "      <td>-0.299184</td>\n",
       "      <td>-0.248312</td>\n",
       "      <td>0.318821</td>\n",
       "      <td>1.000000</td>\n",
       "      <td>0.458281</td>\n",
       "      <td>0.660947</td>\n",
       "    </tr>\n",
       "    <tr>\n",
       "      <th>맛있는식사</th>\n",
       "      <td>0.503027</td>\n",
       "      <td>-0.101656</td>\n",
       "      <td>-0.043289</td>\n",
       "      <td>0.040042</td>\n",
       "      <td>0.458281</td>\n",
       "      <td>1.000000</td>\n",
       "      <td>0.344156</td>\n",
       "    </tr>\n",
       "    <tr>\n",
       "      <th>행복지수</th>\n",
       "      <td>0.195411</td>\n",
       "      <td>-0.328178</td>\n",
       "      <td>0.359052</td>\n",
       "      <td>0.364067</td>\n",
       "      <td>0.660947</td>\n",
       "      <td>0.344156</td>\n",
       "      <td>1.000000</td>\n",
       "    </tr>\n",
       "  </tbody>\n",
       "</table>\n",
       "</div>"
      ],
      "text/plain": [
       "                    맑음지수    미세먼지정도  Youtube시청시간(h)     쉬는날?    작업진행잘됨?  \\\n",
       "맑음지수            1.000000 -0.016246        0.196877  0.054029  0.074477   \n",
       "미세먼지정도         -0.016246  1.000000        0.011971 -0.298306 -0.299184   \n",
       "Youtube시청시간(h)  0.196877  0.011971        1.000000 -0.356586 -0.248312   \n",
       "쉬는날?            0.054029 -0.298306       -0.356586  1.000000  0.318821   \n",
       "작업진행잘됨?         0.074477 -0.299184       -0.248312  0.318821  1.000000   \n",
       "맛있는식사           0.503027 -0.101656       -0.043289  0.040042  0.458281   \n",
       "행복지수            0.195411 -0.328178        0.359052  0.364067  0.660947   \n",
       "\n",
       "                   맛있는식사      행복지수  \n",
       "맑음지수            0.503027  0.195411  \n",
       "미세먼지정도         -0.101656 -0.328178  \n",
       "Youtube시청시간(h) -0.043289  0.359052  \n",
       "쉬는날?            0.040042  0.364067  \n",
       "작업진행잘됨?         0.458281  0.660947  \n",
       "맛있는식사           1.000000  0.344156  \n",
       "행복지수            0.344156  1.000000  "
      ]
     },
     "execution_count": 33,
     "metadata": {},
     "output_type": "execute_result"
    }
   ],
   "source": [
    "df.corr() # 상관관계 1:상관있음, 0:상관없음, -1:음의상관있음 "
   ]
  },
  {
   "cell_type": "markdown",
   "metadata": {},
   "source": [
    "선형 회귀 모델을 사용해서 '행복지수' 를 타겟으로 학습시키세요.\n",
    "- 테스트셋을 나눌 필요 없습니다\n",
    "- 결정계수로 성능을 측정합니다\n",
    "- 계수의 값을 출력해서 계수의 의미를 생각해 봅니다\n",
    "- 정답과 예측을 그래프로 비교해봅니다"
   ]
  },
  {
   "cell_type": "code",
   "execution_count": 51,
   "metadata": {
    "collapsed": true
   },
   "outputs": [],
   "source": [
    "np.set_printoptions(3, suppress=True)"
   ]
  },
  {
   "cell_type": "code",
   "execution_count": 54,
   "metadata": {},
   "outputs": [
    {
     "data": {
      "text/plain": [
       "Index(['맑음지수', '미세먼지정도', 'Youtube시청시간(h)', '쉬는날? ', '작업진행잘됨?', '맛있는식사',\n",
       "       '행복지수'],\n",
       "      dtype='object')"
      ]
     },
     "execution_count": 54,
     "metadata": {},
     "output_type": "execute_result"
    }
   ],
   "source": [
    "df.columns"
   ]
  },
  {
   "cell_type": "code",
   "execution_count": 52,
   "metadata": {},
   "outputs": [
    {
     "data": {
      "text/plain": [
       "array([ -0.042,  -0.013,   2.692,  21.426,   0.786,   0.063])"
      ]
     },
     "execution_count": 52,
     "metadata": {},
     "output_type": "execute_result"
    }
   ],
   "source": [
    "x = df.drop('행복지수', axis=1)\n",
    "y = df['행복지수']\n",
    "from sklearn.linear_model import LinearRegression\n",
    "model = LinearRegression().fit(x, y)\n",
    "model.coef_"
   ]
  },
  {
   "cell_type": "code",
   "execution_count": 53,
   "metadata": {},
   "outputs": [
    {
     "data": {
      "text/plain": [
       "<matplotlib.legend.Legend at 0x166580486a0>"
      ]
     },
     "execution_count": 53,
     "metadata": {},
     "output_type": "execute_result"
    },
    {
     "data": {
      "image/png": "[encoded data removed]",
      "text/plain": [
       "<matplotlib.figure.Figure at 0x166550bb860>"
      ]
     },
     "metadata": {},
     "output_type": "display_data"
    }
   ],
   "source": [
    "plt.title('R_squre '+str(model.score(x, y)))\n",
    "plt.plot(y.values, label='y')\n",
    "plt.plot(model.predict(x), label='predict')\n",
    "plt.legend()"
   ]
  },
  {
   "cell_type": "code",
   "execution_count": 31,
   "metadata": {},
   "outputs": [
    {
     "data": {
      "text/plain": [
       "<matplotlib.axes._subplots.AxesSubplot at 0x16655a27470>"
      ]
     },
     "execution_count": 31,
     "metadata": {},
     "output_type": "execute_result"
    },
    {
     "data": {
      "image/png": "[encoded data removed]",
      "text/plain": [
       "<matplotlib.figure.Figure at 0x16655a127f0>"
      ]
     },
     "metadata": {},
     "output_type": "display_data"
    }
   ],
   "source": [
    "df[['맑음지수','행복지수']].plot()"
   ]
  },
  {
   "cell_type": "code",
   "execution_count": 29,
   "metadata": {},
   "outputs": [
    {
     "data": {
      "text/plain": [
       "<matplotlib.axes._subplots.AxesSubplot at 0x166559c5588>"
      ]
     },
     "execution_count": 29,
     "metadata": {},
     "output_type": "execute_result"
    },
    {
     "data": {
      "image/png": "[encoded data removed]",
      "text/plain": [
       "<matplotlib.figure.Figure at 0x166552ed2b0>"
      ]
     },
     "metadata": {},
     "output_type": "display_data"
    }
   ],
   "source": [
    "%matplotlib inline\n",
    "df.plot.box()"
   ]
  },
  {
   "cell_type": "code",
   "execution_count": null,
   "metadata": {
    "collapsed": true
   },
   "outputs": [],
   "source": []
  }
 ],
 "metadata": {
  "kernelspec": {
   "display_name": "Python 3",
   "language": "python",
   "name": "python3"
  },
  "language_info": {
   "codemirror_mode": {
    "name": "ipython",
    "version": 3
   },
   "file_extension": ".py",
   "mimetype": "text/x-python",
   "name": "python",
   "nbconvert_exporter": "python",
   "pygments_lexer": "ipython3",
   "version": "3.6.3"
  }
 },
 "nbformat": 4,
 "nbformat_minor": 2
}
